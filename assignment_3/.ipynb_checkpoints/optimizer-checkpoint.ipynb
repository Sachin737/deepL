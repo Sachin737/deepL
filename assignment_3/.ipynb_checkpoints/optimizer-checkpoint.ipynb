{
 "cells": [
  {
   "cell_type": "code",
   "execution_count": 2,
   "metadata": {},
   "outputs": [],
   "source": [
    "import torch \n",
    "import torch.nn as nn\n",
    "import numpy as np\n",
    "import cv2\n",
    "import pandas as pd\n",
    "import os\n",
    "import matplotlib.pyplot as plt\n",
    "import sklearn.model_selection as skl\n",
    "from PIL import Image, ImageOps, ImageEnhance"
   ]
  },
  {
   "cell_type": "code",
   "execution_count": 4,
   "metadata": {},
   "outputs": [
    {
     "data": {
      "text/plain": [
       "device(type='cuda')"
      ]
     },
     "execution_count": 4,
     "metadata": {},
     "output_type": "execute_result"
    }
   ],
   "source": [
    "device = torch.device('cuda' if torch.cuda.is_available() else 'cpu')\n",
    "device"
   ]
  },
  {
   "cell_type": "code",
   "execution_count": 5,
   "metadata": {},
   "outputs": [],
   "source": [
    "def make_df(path,cls):\n",
    "  df = []\n",
    "  for filename in os.listdir(path):\n",
    "        image = Image.open(path+filename)\n",
    "        arr = np.array(image).flatten()\n",
    "        df.append(arr)\n",
    "  df = np.array(df)\n",
    "  df = pd.DataFrame(df, columns = [i for i in range(1,785)])\n",
    "  df.loc[:,'label'] = cls\n",
    "  return df"
   ]
  },
  {
   "cell_type": "code",
   "execution_count": 6,
   "metadata": {},
   "outputs": [],
   "source": [
    "dict = {\n",
    "    0: '0',\n",
    "    1: '2',\n",
    "    2: '5',\n",
    "    3: '6',\n",
    "    4: '7'\n",
    "}"
   ]
  },
  {
   "cell_type": "code",
   "execution_count": 7,
   "metadata": {},
   "outputs": [],
   "source": [
    "path = \"./Data/train/\"\n",
    "df_train_cls0 = make_df(path+'0/',0)\n",
    "df_train_cls1 = make_df(path+'2/',1)\n",
    "df_train_cls6 = make_df(path+'5/',2)\n",
    "df_train_cls7 = make_df(path+'6/',3)\n",
    "df_train_cls9 = make_df(path+'7/',4)"
   ]
  },
  {
   "cell_type": "code",
   "execution_count": 8,
   "metadata": {},
   "outputs": [
    {
     "data": {
      "text/plain": [
       "(2277, 785)"
      ]
     },
     "execution_count": 8,
     "metadata": {},
     "output_type": "execute_result"
    }
   ],
   "source": [
    "df_train_cls0.shape"
   ]
  },
  {
   "cell_type": "code",
   "execution_count": 9,
   "metadata": {},
   "outputs": [],
   "source": [
    "path = \"./Data/test/\"\n",
    "df_test_cls0 = make_df(path+'0/',0)\n",
    "df_test_cls1 = make_df(path+'2/',1)\n",
    "df_test_cls6 = make_df(path+'5/',2)\n",
    "df_test_cls7 = make_df(path+'6/',3)\n",
    "df_test_cls9 = make_df(path+'7/',4)"
   ]
  },
  {
   "cell_type": "code",
   "execution_count": 10,
   "metadata": {},
   "outputs": [],
   "source": [
    "path = \"./Data/val/\"\n",
    "df_val_cls0 = make_df(path+'0/',0)\n",
    "df_val_cls1 = make_df(path+'2/',1)\n",
    "df_val_cls6 = make_df(path+'5/',2)\n",
    "df_val_cls7 = make_df(path+'6/',3)\n",
    "df_val_cls9 = make_df(path+'7/',4)"
   ]
  },
  {
   "cell_type": "code",
   "execution_count": 11,
   "metadata": {},
   "outputs": [
    {
     "name": "stdout",
     "output_type": "stream",
     "text": [
      "torch.Size([11385, 785])\n"
     ]
    }
   ],
   "source": [
    "df_train = pd.concat([df_train_cls0,df_train_cls1,df_train_cls6,df_train_cls7,df_train_cls9])\n",
    "df_test = pd.concat([df_test_cls0,df_test_cls1,df_test_cls6,df_test_cls7,df_test_cls9])\n",
    "df_val = pd.concat([df_val_cls0,df_val_cls1,df_val_cls6,df_val_cls7,df_val_cls9])\n",
    "\n",
    "\n",
    "df_train = torch.tensor(np.array(df_train), dtype=torch.float32)\n",
    "df_test = torch.tensor(np.array(df_test), dtype=torch.float32)\n",
    "df_val = torch.tensor(np.array(df_val), dtype=torch.float32)\n",
    "\n",
    "print(df_train.shape)"
   ]
  },
  {
   "cell_type": "code",
   "execution_count": 12,
   "metadata": {},
   "outputs": [],
   "source": [
    "class NeuralNet(nn.Module):\n",
    "    def __init__(self, input_size, hidden_sizes, num_classes):\n",
    "        super(NeuralNet, self).__init__()\n",
    "        \n",
    "        layers = []\n",
    "        \n",
    "        # Adding the first hidden layer and its activation\n",
    "        layers.append(nn.Linear(input_size, hidden_sizes[0]))\n",
    "        layers.append(nn.ReLU())\n",
    "        \n",
    "        # Adding the subsequent hidden layers and their activations\n",
    "        for i in range(1, len(hidden_sizes)):\n",
    "            layers.append(nn.Linear(hidden_sizes[i-1], hidden_sizes[i]))\n",
    "            layers.append(nn.ReLU())\n",
    "        \n",
    "        # Adding the output layer\n",
    "        layers.append(nn.Linear(hidden_sizes[-1], num_classes))\n",
    "        \n",
    "        # Combining all layers into a sequential container\n",
    "        self.all_layers = nn.Sequential(*layers)\n",
    "        \n",
    "    def forward_propagation(self, x):\n",
    "        return self.all_layers(x)\n",
    "\n",
    "def one_hot_vec(index, cols, rows):\n",
    "    res = torch.zeros(rows, cols)\n",
    "    for i in range(index.shape[0]):\n",
    "        res[i,index[i]]=1\n",
    "    return res"
   ]
  },
  {
   "cell_type": "markdown",
   "metadata": {},
   "source": [
    "### FCNN: Stochastic Gradient Descent"
   ]
  },
  {
   "cell_type": "code",
   "execution_count": 100,
   "metadata": {},
   "outputs": [
    {
     "name": "stdout",
     "output_type": "stream",
     "text": [
      "Epoch [1/40], Loss: 3152.4999763078013\n",
      "Epoch [2/40], Loss: 1195.9868231815058\n",
      "Epoch [3/40], Loss: 753.2882974536891\n",
      "Epoch [4/40], Loss: 557.5557395563255\n",
      "Epoch [5/40], Loss: 518.0110150074695\n",
      "Epoch [6/40], Loss: 333.5363166454939\n",
      "Epoch [7/40], Loss: 324.0891920510583\n",
      "Epoch [8/40], Loss: 222.84798454156908\n",
      "Epoch [9/40], Loss: 270.9021969482212\n",
      "Epoch [10/40], Loss: 145.19030863298227\n",
      "Epoch [11/40], Loss: 140.53283940378537\n",
      "Epoch [12/40], Loss: 78.72632511261895\n",
      "Epoch [13/40], Loss: 138.1740019120557\n",
      "Epoch [14/40], Loss: 176.74233266424835\n",
      "Epoch [15/40], Loss: 233.10885814061686\n",
      "Epoch [16/40], Loss: 82.94490942979257\n",
      "Epoch [17/40], Loss: 107.07191643052772\n",
      "Epoch [18/40], Loss: 82.6165993336181\n",
      "Epoch [19/40], Loss: 33.261123781059794\n",
      "Epoch [20/40], Loss: 7.6857549301192805\n",
      "Epoch [21/40], Loss: 3.9921393463703794\n",
      "Epoch [22/40], Loss: 2.4423471835496358\n",
      "Epoch [23/40], Loss: 1.1703693285448438\n",
      "Epoch [24/40], Loss: 0.8912460734693042\n",
      "Epoch [25/40], Loss: 0.7143689684062906\n",
      "Epoch [26/40], Loss: 0.5937815355546903\n",
      "Epoch [27/40], Loss: 0.5088465176732058\n",
      "Epoch [28/40], Loss: 0.45545621151656235\n",
      "Epoch [29/40], Loss: 0.3997048746114089\n",
      "Epoch [30/40], Loss: 0.3519654314592202\n",
      "Epoch [31/40], Loss: 0.3150875600651233\n",
      "Epoch [32/40], Loss: 0.29150195342880636\n",
      "Epoch [33/40], Loss: 0.26531737632209484\n",
      "Epoch [34/40], Loss: 0.24326232198362874\n",
      "Epoch [35/40], Loss: 0.22716399163709156\n",
      "Epoch [36/40], Loss: 0.21300157042180956\n",
      "Epoch [37/40], Loss: 0.19835073118390767\n",
      "Epoch [38/40], Loss: 0.18637209966590262\n",
      "Epoch [39/40], Loss: 0.1772967515411139\n",
      "Epoch [40/40], Loss: 0.16655989626484313\n"
     ]
    }
   ],
   "source": [
    "\n",
    "# i. Stochastic gradient descent (SGD) algorithm - (batch_size=1),\n",
    "\n",
    "# Hyper-parameters\n",
    "input_size = 28*28\n",
    "hidden_sizes = [64,32,16,8]\n",
    "num_classes = 5\n",
    "num_epochs_sgd = 40\n",
    "learning_rate = 0.001\n",
    "batch_size = 1\n",
    "\n",
    "# data loader for iteration\n",
    "train_loader = torch.utils.data.DataLoader(dataset=df_train,batch_size=batch_size,shuffle=True)\n",
    "\n",
    "# model\n",
    "model_sgd = NeuralNet(input_size, hidden_sizes, num_classes).to(device)\n",
    "\n",
    "# loss and optimizer\n",
    "loss_fn = nn.CrossEntropyLoss()\n",
    "optimizer = torch.optim.SGD(model_sgd.parameters(),lr=learning_rate)\n",
    "\n",
    "# Train model\n",
    "\n",
    "total_steps = len(train_loader)\n",
    "losses_sgd = []\n",
    "for epoch in range(num_epochs_sgd):\n",
    "    # each iteration will give a batch of points \n",
    "\n",
    "    tot_loss = 0\n",
    "    for i,data in enumerate(train_loader): \n",
    "        points = data[:,0:28*28].clone().float().to(device)\n",
    "        index = (data[:,28*28].clone().long().reshape(-1,1).to(device))\n",
    "        outputs = one_hot_vec(index, num_classes, points.shape[0]).to(device)\n",
    "        \n",
    "        # forward prop\n",
    "        outputs_ = model_sgd.forward_propagation(points)\n",
    "        # print(\"Output: \", outputs_)\n",
    "\n",
    "        loss = loss_fn(outputs_,outputs)\n",
    "\n",
    "        # backward prop and optimize\n",
    "        loss.backward()\n",
    "        optimizer.step()\n",
    "        optimizer.zero_grad()\n",
    "        \n",
    "        tot_loss += loss.item()\n",
    " \n",
    "    losses_sgd.append(tot_loss)\n",
    "    \n",
    "    print (f'Epoch [{epoch+1}/{num_epochs_sgd}], Loss: {tot_loss}')\n"
   ]
  },
  {
   "cell_type": "code",
   "execution_count": 101,
   "metadata": {},
   "outputs": [
    {
     "data": {
      "image/png": "[encoded data removed]",
      "text/plain": [
       "<Figure size 640x480 with 1 Axes>"
      ]
     },
     "metadata": {},
     "output_type": "display_data"
    }
   ],
   "source": [
    "# PLotting error vs epochs\n",
    "plt.plot([i+1 for i in range(num_epochs_sgd)], losses_sgd)\n",
    "plt.title(\"SGD\")\n",
    "plt.xlabel(\"epochs\")\n",
    "plt.ylabel(\"Cross entropy loss\")\n",
    "plt.show()"
   ]
  },
  {
   "cell_type": "code",
   "execution_count": 102,
   "metadata": {},
   "outputs": [
    {
     "name": "stdout",
     "output_type": "stream",
     "text": [
      "Test Loss: 27.604779541492462, Accuracy: 98.47167325428195\n"
     ]
    }
   ],
   "source": [
    "# Testing\n",
    "test_loader = torch.utils.data.DataLoader(dataset=df_test,batch_size=128,shuffle=True)\n",
    "tot_loss = 0\n",
    "good_pred = 0\n",
    "\n",
    "for i,data in enumerate(test_loader): \n",
    "    points = data[:,0:28*28].clone().float().to(device)\n",
    "    index = (data[:,28*28].clone().long().reshape(-1,1).to(device))\n",
    "    outputs = one_hot_vec(index, num_classes, points.shape[0]).to(device)\n",
    "    \n",
    "    # prediction\n",
    "    outputs_ = model_sgd.forward_propagation(points)\n",
    "    outputs_ = torch.softmax(outputs_, dim=1)\n",
    "    \n",
    "    \n",
    "    loss = loss_fn(outputs_,outputs)\n",
    "    tot_loss += loss.item()\n",
    "\n",
    "    outputs_ = torch.argmax(outputs_, dim=1).reshape(-1,1)\n",
    "    good_pred += (outputs_ == index).sum().item()\n",
    "    \n",
    "    # print(index,outputs_)\n",
    "    # print(good_pred)\n",
    "\n",
    "print(f'Test Loss: {tot_loss}, Accuracy: {100 * good_pred/df_test.shape[0]}')"
   ]
  },
  {
   "cell_type": "markdown",
   "metadata": {},
   "source": [
    "### FCNN: Vanilla Gradient Descent"
   ]
  },
  {
   "cell_type": "code",
   "execution_count": 112,
   "metadata": {},
   "outputs": [
    {
     "name": "stdout",
     "output_type": "stream",
     "text": [
      "Epoch [1/120], Loss: 2.706207275390625\n",
      "Epoch [2/120], Loss: 1.5436495542526245\n",
      "Epoch [3/120], Loss: 1.6486144065856934\n",
      "Epoch [4/120], Loss: 1.557402491569519\n",
      "Epoch [5/120], Loss: 1.2538280487060547\n",
      "Epoch [6/120], Loss: 1.0957103967666626\n",
      "Epoch [7/120], Loss: 1.0118260383605957\n",
      "Epoch [8/120], Loss: 0.9411813616752625\n",
      "Epoch [9/120], Loss: 0.8865989446640015\n",
      "Epoch [10/120], Loss: 0.8498956561088562\n",
      "Epoch [11/120], Loss: 0.8875317573547363\n",
      "Epoch [12/120], Loss: 0.986659586429596\n",
      "Epoch [13/120], Loss: 1.1861839294433594\n",
      "Epoch [14/120], Loss: 0.8161598443984985\n",
      "Epoch [15/120], Loss: 0.6798766255378723\n",
      "Epoch [16/120], Loss: 0.6080778241157532\n",
      "Epoch [17/120], Loss: 0.5637155771255493\n",
      "Epoch [18/120], Loss: 0.5294754505157471\n",
      "Epoch [19/120], Loss: 0.5004618167877197\n",
      "Epoch [20/120], Loss: 0.475814551115036\n",
      "Epoch [21/120], Loss: 0.45533281564712524\n",
      "Epoch [22/120], Loss: 0.4404657185077667\n",
      "Epoch [23/120], Loss: 0.43489977717399597\n",
      "Epoch [24/120], Loss: 0.4494950473308563\n",
      "Epoch [25/120], Loss: 0.5147439241409302\n",
      "Epoch [26/120], Loss: 0.7001730799674988\n",
      "Epoch [27/120], Loss: 1.0125672817230225\n",
      "Epoch [28/120], Loss: 0.9015191197395325\n",
      "Epoch [29/120], Loss: 0.5198071002960205\n",
      "Epoch [30/120], Loss: 0.4204629957675934\n",
      "Epoch [31/120], Loss: 0.3746723532676697\n",
      "Epoch [32/120], Loss: 0.3506145179271698\n",
      "Epoch [33/120], Loss: 0.3357870876789093\n",
      "Epoch [34/120], Loss: 0.324387788772583\n",
      "Epoch [35/120], Loss: 0.3150685131549835\n",
      "Epoch [36/120], Loss: 0.30704885721206665\n",
      "Epoch [37/120], Loss: 0.29989299178123474\n",
      "Epoch [38/120], Loss: 0.29332467913627625\n",
      "Epoch [39/120], Loss: 0.2872735559940338\n",
      "Epoch [40/120], Loss: 0.28170153498649597\n",
      "Epoch [41/120], Loss: 0.276529997587204\n",
      "Epoch [42/120], Loss: 0.27168309688568115\n",
      "Epoch [43/120], Loss: 0.2671146094799042\n",
      "Epoch [44/120], Loss: 0.26278331875801086\n",
      "Epoch [45/120], Loss: 0.25869762897491455\n",
      "Epoch [46/120], Loss: 0.25480443239212036\n",
      "Epoch [47/120], Loss: 0.2510729432106018\n",
      "Epoch [48/120], Loss: 0.24748195707798004\n",
      "Epoch [49/120], Loss: 0.24404726922512054\n",
      "Epoch [50/120], Loss: 0.24073179066181183\n",
      "Epoch [51/120], Loss: 0.2375594526529312\n",
      "Epoch [52/120], Loss: 0.23448555171489716\n",
      "Epoch [53/120], Loss: 0.23150625824928284\n",
      "Epoch [54/120], Loss: 0.22862741351127625\n",
      "Epoch [55/120], Loss: 0.2258397936820984\n",
      "Epoch [56/120], Loss: 0.22316035628318787\n",
      "Epoch [57/120], Loss: 0.22058385610580444\n",
      "Epoch [58/120], Loss: 0.21809355914592743\n",
      "Epoch [59/120], Loss: 0.215666264295578\n",
      "Epoch [60/120], Loss: 0.213304802775383\n",
      "Epoch [61/120], Loss: 0.21100059151649475\n",
      "Epoch [62/120], Loss: 0.20872879028320312\n",
      "Epoch [63/120], Loss: 0.20649586617946625\n",
      "Epoch [64/120], Loss: 0.20430856943130493\n",
      "Epoch [65/120], Loss: 0.2021702080965042\n",
      "Epoch [66/120], Loss: 0.2000829130411148\n",
      "Epoch [67/120], Loss: 0.1980452537536621\n",
      "Epoch [68/120], Loss: 0.19606395065784454\n",
      "Epoch [69/120], Loss: 0.19413086771965027\n",
      "Epoch [70/120], Loss: 0.1922474205493927\n",
      "Epoch [71/120], Loss: 0.19041484594345093\n",
      "Epoch [72/120], Loss: 0.18862082064151764\n",
      "Epoch [73/120], Loss: 0.18685543537139893\n",
      "Epoch [74/120], Loss: 0.1851232796907425\n",
      "Epoch [75/120], Loss: 0.18343470990657806\n",
      "Epoch [76/120], Loss: 0.18177814781665802\n",
      "Epoch [77/120], Loss: 0.1801576018333435\n",
      "Epoch [78/120], Loss: 0.17857158184051514\n",
      "Epoch [79/120], Loss: 0.17701788246631622\n",
      "Epoch [80/120], Loss: 0.17548666894435883\n",
      "Epoch [81/120], Loss: 0.17397774755954742\n",
      "Epoch [82/120], Loss: 0.17250476777553558\n",
      "Epoch [83/120], Loss: 0.17106439173221588\n",
      "Epoch [84/120], Loss: 0.16964836418628693\n",
      "Epoch [85/120], Loss: 0.16825857758522034\n",
      "Epoch [86/120], Loss: 0.1668786257505417\n",
      "Epoch [87/120], Loss: 0.1655244529247284\n",
      "Epoch [88/120], Loss: 0.16418439149856567\n",
      "Epoch [89/120], Loss: 0.16287001967430115\n",
      "Epoch [90/120], Loss: 0.161574125289917\n",
      "Epoch [91/120], Loss: 0.160297691822052\n",
      "Epoch [92/120], Loss: 0.15904194116592407\n",
      "Epoch [93/120], Loss: 0.15780265629291534\n",
      "Epoch [94/120], Loss: 0.1565859019756317\n",
      "Epoch [95/120], Loss: 0.15538816154003143\n",
      "Epoch [96/120], Loss: 0.154210165143013\n",
      "Epoch [97/120], Loss: 0.15303915739059448\n",
      "Epoch [98/120], Loss: 0.15188100934028625\n",
      "Epoch [99/120], Loss: 0.15073886513710022\n",
      "Epoch [100/120], Loss: 0.1496143937110901\n",
      "Epoch [101/120], Loss: 0.1485067903995514\n",
      "Epoch [102/120], Loss: 0.14741478860378265\n",
      "Epoch [103/120], Loss: 0.14633668959140778\n",
      "Epoch [104/120], Loss: 0.14526721835136414\n",
      "Epoch [105/120], Loss: 0.1442127227783203\n",
      "Epoch [106/120], Loss: 0.14318792521953583\n",
      "Epoch [107/120], Loss: 0.14217960834503174\n",
      "Epoch [108/120], Loss: 0.14118164777755737\n",
      "Epoch [109/120], Loss: 0.14018912613391876\n",
      "Epoch [110/120], Loss: 0.13920928537845612\n",
      "Epoch [111/120], Loss: 0.1382424533367157\n",
      "Epoch [112/120], Loss: 0.13728685677051544\n",
      "Epoch [113/120], Loss: 0.13634084165096283\n",
      "Epoch [114/120], Loss: 0.13540828227996826\n",
      "Epoch [115/120], Loss: 0.13448740541934967\n",
      "Epoch [116/120], Loss: 0.1335836499929428\n",
      "Epoch [117/120], Loss: 0.13269087672233582\n",
      "Epoch [118/120], Loss: 0.13181458413600922\n",
      "Epoch [119/120], Loss: 0.13094671070575714\n",
      "Epoch [120/120], Loss: 0.13009242713451385\n"
     ]
    }
   ],
   "source": [
    "\n",
    "# i. Stochastic gradient descent (SGD) algorithm - (batch_size=1),\n",
    "\n",
    "# Hyper-parameters\n",
    "input_size = 28*28\n",
    "hidden_sizes = [64,32,16,8]\n",
    "num_classes = 5\n",
    "num_epochs_vanilla = 120\n",
    "learning_rate = 0.01\n",
    "batch_size = df_train.shape[0]\n",
    "\n",
    "# data loader for iteration\n",
    "train_loader = torch.utils.data.DataLoader(dataset=df_train,batch_size=batch_size,shuffle=True)\n",
    "\n",
    "# model\n",
    "model_vanilla = NeuralNet(input_size, hidden_sizes, num_classes).to(device)\n",
    "\n",
    "# loss and optimizer\n",
    "loss_fn = nn.CrossEntropyLoss()\n",
    "optimizer = torch.optim.SGD(model_vanilla.parameters(),lr=learning_rate)\n",
    "\n",
    "# Train model\n",
    "total_steps = len(train_loader)\n",
    "losses_vanilla = []\n",
    "\n",
    "for epoch in range(num_epochs_vanilla):\n",
    "    # each iteration will give a batch of points \n",
    "\n",
    "    tot_loss = 0\n",
    "    for i,data in enumerate(train_loader): \n",
    "        points = data[:,0:28*28].clone().float().to(device)\n",
    "        index = (data[:,28*28].clone().long().reshape(-1,1).to(device))\n",
    "        outputs = one_hot_vec(index, num_classes, points.shape[0]).to(device)\n",
    "        \n",
    "        # forward prop\n",
    "        outputs_ = model_vanilla.forward_propagation(points)\n",
    "        loss = loss_fn(outputs_,outputs)\n",
    "\n",
    "        # Backprpagation and optimization\n",
    "        optimizer.zero_grad()\n",
    "        loss.backward()\n",
    "        optimizer.step()\n",
    "        \n",
    "        # print(outputs_, outputs)\n",
    "        \n",
    "        tot_loss += loss.item()\n",
    " \n",
    "    losses_vanilla.append(tot_loss)\n",
    "    \n",
    "    print (f'Epoch [{epoch+1}/{num_epochs_vanilla}], Loss: {tot_loss}')\n"
   ]
  },
  {
   "cell_type": "code",
   "execution_count": 113,
   "metadata": {},
   "outputs": [
    {
     "data": {
      "image/png": "[encoded data removed]",
      "text/plain": [
       "<Figure size 640x480 with 1 Axes>"
      ]
     },
     "metadata": {},
     "output_type": "display_data"
    }
   ],
   "source": [
    "# Plotting error vs epochs\n",
    "plt.plot([i+1 for i in range(num_epochs_vanilla)], losses_vanilla)\n",
    "plt.title(\"SGD\")\n",
    "plt.xlabel(\"epochs\")\n",
    "plt.ylabel(\"Cross entropy loss\")\n",
    "plt.show()"
   ]
  },
  {
   "cell_type": "code",
   "execution_count": 114,
   "metadata": {},
   "outputs": [
    {
     "name": "stdout",
     "output_type": "stream",
     "text": [
      "Test Loss: 29.214185178279877, Accuracy: 95.41501976284584\n"
     ]
    }
   ],
   "source": [
    "# Testing\n",
    "test_loader = torch.utils.data.DataLoader(dataset=df_test,batch_size=128,shuffle=True)\n",
    "tot_loss = 0\n",
    "good_pred = 0\n",
    "\n",
    "for i,data in enumerate(test_loader): \n",
    "    points = data[:,0:28*28].clone().float().to(device)\n",
    "    index = (data[:,28*28].clone().long().reshape(-1,1).to(device))\n",
    "    outputs = one_hot_vec(index, num_classes, points.shape[0]).to(device)\n",
    "    \n",
    "    # prediction\n",
    "    outputs_ = model_vanilla.forward_propagation(points)\n",
    "    outputs_ = torch.softmax(outputs_, dim=1)\n",
    "    \n",
    "    \n",
    "    loss = loss_fn(outputs_,outputs)\n",
    "    tot_loss += loss.item()\n",
    "\n",
    "    outputs_ = torch.argmax(outputs_, dim=1).reshape(-1,1)\n",
    "    good_pred += (outputs_ == index).sum().item()\n",
    "    \n",
    "    # print(index,outputs_)\n",
    "    # print(good_pred)\n",
    "\n",
    "print(f'Test Loss: {tot_loss}, Accuracy: {100 * good_pred/df_test.shape[0]}')"
   ]
  },
  {
   "cell_type": "markdown",
   "metadata": {},
   "source": [
    "### FCNN: SGD with momentum"
   ]
  },
  {
   "cell_type": "code",
   "execution_count": 106,
   "metadata": {},
   "outputs": [
    {
     "name": "stdout",
     "output_type": "stream",
     "text": [
      "Epoch [1/50], Loss: 78.48190381750464\n",
      "Epoch [2/50], Loss: 19.89506139419973\n",
      "Epoch [3/50], Loss: 14.137500510085374\n",
      "Epoch [4/50], Loss: 10.254369769943878\n",
      "Epoch [5/50], Loss: 7.322942303377204\n",
      "Epoch [6/50], Loss: 5.734325354686007\n",
      "Epoch [7/50], Loss: 4.6016127386828884\n",
      "Epoch [8/50], Loss: 4.477833012933843\n",
      "Epoch [9/50], Loss: 2.288271073746728\n",
      "Epoch [10/50], Loss: 1.7907797284715343\n",
      "Epoch [11/50], Loss: 1.726440469341469\n",
      "Epoch [12/50], Loss: 0.8768416068414808\n",
      "Epoch [13/50], Loss: 0.5060623760800809\n",
      "Epoch [14/50], Loss: 0.3921000780828763\n",
      "Epoch [15/50], Loss: 0.2961489901645109\n",
      "Epoch [16/50], Loss: 0.23964895963399613\n",
      "Epoch [17/50], Loss: 0.2204471245786408\n",
      "Epoch [18/50], Loss: 0.18177411019496503\n",
      "Epoch [19/50], Loss: 0.16416700861918798\n",
      "Epoch [20/50], Loss: 0.149935008884313\n",
      "Epoch [21/50], Loss: 0.13748753261825186\n",
      "Epoch [22/50], Loss: 0.12661568277690094\n",
      "Epoch [23/50], Loss: 0.11900879101813189\n",
      "Epoch [24/50], Loss: 0.11505408676816842\n",
      "Epoch [25/50], Loss: 0.10678540087064903\n",
      "Epoch [26/50], Loss: 0.09850113687389239\n",
      "Epoch [27/50], Loss: 0.09464145796846424\n",
      "Epoch [28/50], Loss: 0.09151015528141215\n",
      "Epoch [29/50], Loss: 0.08526625981903635\n",
      "Epoch [30/50], Loss: 0.08146969981589791\n",
      "Epoch [31/50], Loss: 0.07722939904851955\n",
      "Epoch [32/50], Loss: 0.07387378891507979\n",
      "Epoch [33/50], Loss: 0.07252210772639955\n",
      "Epoch [34/50], Loss: 0.06792921890996695\n",
      "Epoch [35/50], Loss: 0.06485803344367014\n",
      "Epoch [36/50], Loss: 0.06282114625150825\n",
      "Epoch [37/50], Loss: 0.059878852542169625\n",
      "Epoch [38/50], Loss: 0.0572127254094994\n",
      "Epoch [39/50], Loss: 0.05499240192398247\n",
      "Epoch [40/50], Loss: 0.05306426630613714\n",
      "Epoch [41/50], Loss: 0.05053833936699448\n",
      "Epoch [42/50], Loss: 0.04886459512090369\n",
      "Epoch [43/50], Loss: 0.047277105170906\n",
      "Epoch [44/50], Loss: 0.04498750433265286\n",
      "Epoch [45/50], Loss: 0.043548796335926454\n",
      "Epoch [46/50], Loss: 0.0416180845281815\n",
      "Epoch [47/50], Loss: 0.040299796620047346\n",
      "Epoch [48/50], Loss: 0.039059678008470655\n",
      "Epoch [49/50], Loss: 0.03758358982668142\n",
      "Epoch [50/50], Loss: 0.0359120161251667\n"
     ]
    }
   ],
   "source": [
    "### iii. SGD with momentum (generalized delta rule) – (batch_size=1), \n",
    "\n",
    "# Hyper-parameters\n",
    "input_size = 28*28\n",
    "hidden_sizes = [64,32,16,8]\n",
    "num_classes = 5\n",
    "num_epochs_sgdm = 50\n",
    "learning_rate = 0.001\n",
    "batch_size = 64\n",
    "\n",
    "# data loader for iteration\n",
    "train_loader = torch.utils.data.DataLoader(dataset=df_train,batch_size=batch_size,shuffle=True)\n",
    "\n",
    "# model\n",
    "model_sgdm = NeuralNet(input_size, hidden_sizes, num_classes).to(device)\n",
    "\n",
    "# loss and optimizer\n",
    "loss_fn = nn.CrossEntropyLoss()\n",
    "optimizer = torch.optim.SGD(model_sgdm.parameters(),lr=learning_rate,momentum=0.9)\n",
    "\n",
    "# Train model\n",
    "total_steps = len(train_loader)\n",
    "losses_sgdm = []\n",
    "\n",
    "for epoch in range(num_epochs_sgdm):\n",
    "    # each iteration will give a batch of points \n",
    "\n",
    "    tot_loss = 0\n",
    "    for i,data in enumerate(train_loader): \n",
    "        points = data[:,0:28*28].clone().float().to(device)\n",
    "        index = (data[:,28*28].clone().long().reshape(-1,1).to(device))\n",
    "        outputs = one_hot_vec(index, num_classes, points.shape[0]).to(device)\n",
    "        \n",
    "        # forward prop\n",
    "        outputs_ = model_sgdm.forward_propagation(points)\n",
    "        loss = loss_fn(outputs_,outputs)\n",
    "\n",
    "        # Backprpagation and optimization\n",
    "        optimizer.zero_grad()\n",
    "        loss.backward()\n",
    "        optimizer.step()\n",
    "        \n",
    "        # print(outputs_, outputs)\n",
    "        \n",
    "        tot_loss += loss.item()\n",
    " \n",
    "    losses_sgdm.append(tot_loss)\n",
    "    \n",
    "    print (f'Epoch [{epoch+1}/{num_epochs_sgdm}], Loss: {tot_loss}')\n"
   ]
  },
  {
   "cell_type": "code",
   "execution_count": 107,
   "metadata": {},
   "outputs": [
    {
     "data": {
      "image/png": "[encoded data removed]",
      "text/plain": [
       "<Figure size 640x480 with 1 Axes>"
      ]
     },
     "metadata": {},
     "output_type": "display_data"
    }
   ],
   "source": [
    "# Plotting error vs epochs\n",
    "plt.plot([i+1 for i in range(num_epochs_sgdm)], losses_sgdm)\n",
    "plt.title(\"SGD general delta rule\")\n",
    "plt.xlabel(\"epochs\")\n",
    "plt.ylabel(\"Cross entropy loss\")\n",
    "plt.show()"
   ]
  },
  {
   "cell_type": "code",
   "execution_count": 108,
   "metadata": {},
   "outputs": [
    {
     "name": "stdout",
     "output_type": "stream",
     "text": [
      "Test Loss: 27.74357908964157, Accuracy: 98.02371541501977\n"
     ]
    }
   ],
   "source": [
    "# Testing\n",
    "test_loader = torch.utils.data.DataLoader(dataset=df_test,batch_size=128,shuffle=True)\n",
    "tot_loss = 0\n",
    "good_pred = 0\n",
    "\n",
    "for i,data in enumerate(test_loader): \n",
    "    points = data[:,0:28*28].clone().float().to(device)\n",
    "    index = (data[:,28*28].clone().long().reshape(-1,1).to(device))\n",
    "    outputs = one_hot_vec(index, num_classes, points.shape[0]).to(device)\n",
    "    \n",
    "    # prediction\n",
    "    outputs_ = model_sgdm.forward_propagation(points)\n",
    "    outputs_ = torch.softmax(outputs_, dim=1)\n",
    "    \n",
    "    \n",
    "    loss = loss_fn(outputs_,outputs)\n",
    "    tot_loss += loss.item()\n",
    "\n",
    "    outputs_ = torch.argmax(outputs_, dim=1).reshape(-1,1)\n",
    "    good_pred += (outputs_ == index).sum().item()\n",
    "    \n",
    "    # print(index,outputs_)\n",
    "    # print(good_pred)\n",
    "\n",
    "print(f'Test Loss: {tot_loss}, Accuracy: {100 * good_pred/df_test.shape[0]}')"
   ]
  },
  {
   "cell_type": "markdown",
   "metadata": {},
   "source": [
    "### FCNN: SGD with ADAM"
   ]
  },
  {
   "cell_type": "code",
   "execution_count": 33,
   "metadata": {},
   "outputs": [
    {
     "name": "stdout",
     "output_type": "stream",
     "text": [
      "Epoch [1/40], Loss: 44.25825559347868\n",
      "Epoch [2/40], Loss: 10.14367588609457\n",
      "Epoch [3/40], Loss: 6.2818189933896065\n",
      "Epoch [4/40], Loss: 4.189339219592512\n",
      "Epoch [5/40], Loss: 2.8172045219689608\n",
      "Epoch [6/40], Loss: 1.302090829005465\n",
      "Epoch [7/40], Loss: 1.383857045089826\n",
      "Epoch [8/40], Loss: 1.0953384232707322\n",
      "Epoch [9/40], Loss: 0.8436797464091796\n",
      "Epoch [10/40], Loss: 1.4093882243032567\n",
      "Epoch [11/40], Loss: 0.8149862213758752\n",
      "Epoch [12/40], Loss: 0.7569510574903688\n",
      "Epoch [13/40], Loss: 1.4357512748101726\n",
      "Epoch [14/40], Loss: 1.3964037320693024\n",
      "Epoch [15/40], Loss: 0.9324034136516275\n",
      "Epoch [16/40], Loss: 0.5994639549171552\n",
      "Epoch [17/40], Loss: 1.2193356801144546\n",
      "Epoch [18/40], Loss: 0.46816241755732335\n",
      "Epoch [19/40], Loss: 0.1254783884196513\n",
      "Epoch [20/40], Loss: 0.028678928345470922\n",
      "Epoch [21/40], Loss: 0.012486812252973323\n",
      "Epoch [22/40], Loss: 0.009790882982088078\n",
      "Epoch [23/40], Loss: 0.008034636138290807\n",
      "Epoch [24/40], Loss: 0.006809381979110185\n",
      "Epoch [25/40], Loss: 0.005887616247491678\n",
      "Epoch [26/40], Loss: 0.005188994978652772\n",
      "Epoch [27/40], Loss: 0.004599495060119807\n",
      "Epoch [28/40], Loss: 0.004093719741831592\n",
      "Epoch [29/40], Loss: 0.003655200320736185\n",
      "Epoch [30/40], Loss: 0.0033055692529160297\n",
      "Epoch [31/40], Loss: 0.003018373958866505\n",
      "Epoch [32/40], Loss: 0.0027662222244089207\n",
      "Epoch [33/40], Loss: 0.002546275263057396\n",
      "Epoch [34/40], Loss: 0.0023531005392669613\n",
      "Epoch [35/40], Loss: 0.0021727835023739317\n",
      "Epoch [36/40], Loss: 0.002013293354821144\n",
      "Epoch [37/40], Loss: 0.0018784503681672504\n",
      "Epoch [38/40], Loss: 0.00174866342263158\n",
      "Epoch [39/40], Loss: 0.0016358912405394221\n",
      "Epoch [40/40], Loss: 0.0015285077150792858\n"
     ]
    }
   ],
   "source": [
    "### iii. SGD with momentum (generalized delta rule) – (batch_size=1), \n",
    "\n",
    "# Hyper-parameters\n",
    "input_size = 28*28\n",
    "hidden_sizes = [64,32,16,8]\n",
    "num_classes = 5\n",
    "num_epochs_sgd_adam = 40\n",
    "learning_rate = 0.001\n",
    "batch_size = 128\n",
    "\n",
    "# data loader for iteration\n",
    "train_loader = torch.utils.data.DataLoader(dataset=df_train,batch_size=batch_size,shuffle=True)\n",
    "\n",
    "# model\n",
    "model_sgd_adam = NeuralNet(input_size, hidden_sizes, num_classes).to(device)\n",
    "\n",
    "# loss and optimizer\n",
    "loss_fn = nn.CrossEntropyLoss()\n",
    "optimizer = torch.optim.Adam(model_sgd_adam.parameters(),lr=learning_rate)\n",
    "\n",
    "# Train model\n",
    "total_steps = len(train_loader)\n",
    "losses_sgd_adam = []\n",
    "\n",
    "for epoch in range(num_epochs_sgd_adam):\n",
    "    # each iteration will give a batch of points \n",
    "\n",
    "    tot_loss = 0\n",
    "    for i,data in enumerate(train_loader): \n",
    "        points = data[:,0:28*28].clone().float().to(device)\n",
    "        index = (data[:,28*28].clone().long().reshape(-1,1).to(device))\n",
    "        outputs = one_hot_vec(index, num_classes, points.shape[0]).to(device)\n",
    "        \n",
    "        # forward prop\n",
    "        outputs_ = model_sgd_adam.forward_propagation(points)\n",
    "        loss = loss_fn(outputs_,outputs)\n",
    "\n",
    "        # Backprpagation and optimization\n",
    "        optimizer.zero_grad()\n",
    "        loss.backward()\n",
    "        optimizer.step()\n",
    "        \n",
    "        # print(outputs_, outputs)\n",
    "        \n",
    "        tot_loss += loss.item()\n",
    " \n",
    "    losses_sgd_adam.append(tot_loss)\n",
    "    \n",
    "    print (f'Epoch [{epoch+1}/{num_epochs_sgd_adam}], Loss: {tot_loss}')\n"
   ]
  },
  {
   "cell_type": "code",
   "execution_count": 34,
   "metadata": {},
   "outputs": [
    {
     "data": {
      "image/png": "[encoded data removed]",
      "text/plain": [
       "<Figure size 640x480 with 1 Axes>"
      ]
     },
     "metadata": {},
     "output_type": "display_data"
    }
   ],
   "source": [
    "# Plotting error vs epochs\n",
    "plt.plot([i+1 for i in range(num_epochs_sgd_adam)], losses_sgd_adam)\n",
    "plt.title(\"SGD NAG\")\n",
    "plt.xlabel(\"epochs\")\n",
    "plt.ylabel(\"Cross entropy loss\")\n",
    "plt.show()"
   ]
  },
  {
   "cell_type": "code",
   "execution_count": 35,
   "metadata": {},
   "outputs": [
    {
     "name": "stdout",
     "output_type": "stream",
     "text": [
      "Test Loss: 27.62303251028061, Accuracy: 98.36627140974967\n"
     ]
    }
   ],
   "source": [
    "# Testing\n",
    "test_loader = torch.utils.data.DataLoader(dataset=df_test,batch_size=128,shuffle=True)\n",
    "tot_loss = 0\n",
    "good_pred = 0\n",
    "\n",
    "for i,data in enumerate(test_loader): \n",
    "    points = data[:,0:28*28].clone().float().to(device)\n",
    "    index = (data[:,28*28].clone().long().reshape(-1,1).to(device))\n",
    "    outputs = one_hot_vec(index, num_classes, points.shape[0]).to(device)\n",
    "    \n",
    "    # prediction\n",
    "    outputs_ = model_sgd_adam.forward_propagation(points)\n",
    "    outputs_ = torch.softmax(outputs_, dim=1)\n",
    "    \n",
    "    loss = loss_fn(outputs_,outputs)\n",
    "    tot_loss += loss.item()\n",
    "\n",
    "    outputs_ = torch.argmax(outputs_, dim=1).reshape(-1,1)\n",
    "    good_pred += (outputs_ == index).sum().item()\n",
    "    \n",
    "    # print(index,outputs_)\n",
    "    # print(good_pred)\n",
    "\n",
    "print(f'Test Loss: {tot_loss}, Accuracy: {100 * good_pred/df_test.shape[0]}')\n"
   ]
  },
  {
   "cell_type": "code",
   "execution_count": 3,
   "metadata": {},
   "outputs": [
    {
     "ename": "NameError",
     "evalue": "name 'torch' is not defined",
     "output_type": "error",
     "traceback": [
      "\u001b[0;31m---------------------------------------------------------------------------\u001b[0m",
      "\u001b[0;31mNameError\u001b[0m                                 Traceback (most recent call last)",
      "Cell \u001b[0;32mIn[3], line 1\u001b[0m\n\u001b[0;32m----> 1\u001b[0m test_loader \u001b[38;5;241m=\u001b[39m \u001b[43mtorch\u001b[49m\u001b[38;5;241m.\u001b[39mutils\u001b[38;5;241m.\u001b[39mdata\u001b[38;5;241m.\u001b[39mDataLoader(dataset\u001b[38;5;241m=\u001b[39mdf_test,batch_size\u001b[38;5;241m=\u001b[39mbatch_size,shuffle\u001b[38;5;241m=\u001b[39m\u001b[38;5;28;01mTrue\u001b[39;00m)\n\u001b[1;32m      3\u001b[0m \u001b[38;5;28mid\u001b[39m \u001b[38;5;241m=\u001b[39m \u001b[38;5;241m1513\u001b[39m\n\u001b[1;32m      4\u001b[0m plt\u001b[38;5;241m.\u001b[39mimshow( np\u001b[38;5;241m.\u001b[39marray(test_loader\u001b[38;5;241m.\u001b[39mdataset[\u001b[38;5;28mid\u001b[39m,:\u001b[38;5;241m28\u001b[39m\u001b[38;5;241m*\u001b[39m\u001b[38;5;241m28\u001b[39m]\u001b[38;5;241m.\u001b[39mreshape(\u001b[38;5;241m28\u001b[39m,\u001b[38;5;241m28\u001b[39m)), cmap\u001b[38;5;241m=\u001b[39m\u001b[38;5;124m\"\u001b[39m\u001b[38;5;124mgray\u001b[39m\u001b[38;5;124m\"\u001b[39m)\n",
      "\u001b[0;31mNameError\u001b[0m: name 'torch' is not defined"
     ]
    }
   ],
   "source": [
    "test_loader = torch.utils.data.DataLoader(dataset=df_test,batch_size=batch_size,shuffle=True)\n",
    "\n",
    "id = 1513\n",
    "plt.imshow( np.array(test_loader.dataset[id,:28*28].reshape(28,28)), cmap=\"gray\")\n",
    "y = torch.argmax(model_sgd_adam.forward_propagation(test_loader.dataset[id,0:28*28].clone().float().to(device))).item()\n",
    "print(dict[y])"
   ]
  },
  {
   "cell_type": "code",
   "execution_count": null,
   "metadata": {},
   "outputs": [],
   "source": []
  }
 ],
 "metadata": {
  "kernelspec": {
   "display_name": "Python 3.11 (tensorflow)",
   "language": "python",
   "name": "tensorflow"
  },
  "language_info": {
   "codemirror_mode": {
    "name": "ipython",
    "version": 3
   },
   "file_extension": ".py",
   "mimetype": "text/x-python",
   "name": "python",
   "nbconvert_exporter": "python",
   "pygments_lexer": "ipython3",
   "version": "3.8.16"
  }
 },
 "nbformat": 4,
 "nbformat_minor": 2
}
