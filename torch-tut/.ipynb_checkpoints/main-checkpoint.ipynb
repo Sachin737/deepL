{
 "cells": [
  {
   "cell_type": "code",
   "execution_count": 156,
   "metadata": {},
   "outputs": [],
   "source": [
    "import torch\n",
    "import numpy as np"
   ]
  },
  {
   "cell_type": "code",
   "execution_count": 157,
   "metadata": {},
   "outputs": [
    {
     "name": "stdout",
     "output_type": "stream",
     "text": [
      "tensor([[-3.9165e-35,  4.5773e-41,  2.1484e-32,  0.0000e+00,  5.8294e-43],\n",
      "        [ 0.0000e+00,  1.8077e-43,  0.0000e+00,  2.1351e-32,  0.0000e+00]])\n"
     ]
    }
   ],
   "source": [
    "x = torch.empty(2,5)\n",
    "print(x)"
   ]
  },
  {
   "cell_type": "code",
   "execution_count": 158,
   "metadata": {},
   "outputs": [
    {
     "name": "stdout",
     "output_type": "stream",
     "text": [
      "tensor([[0.9487, 0.9078, 0.6132],\n",
      "        [0.8844, 0.0286, 0.9079],\n",
      "        [0.7871, 0.7995, 0.3456],\n",
      "        [0.3086, 0.6498, 0.7696],\n",
      "        [0.4874, 0.9135, 0.5395]])\n"
     ]
    }
   ],
   "source": [
    "x = t.rand(5, 3) # rand no. in [0,1]\n",
    "print(x)"
   ]
  },
  {
   "cell_type": "code",
   "execution_count": 159,
   "metadata": {},
   "outputs": [
    {
     "name": "stdout",
     "output_type": "stream",
     "text": [
      "tensor([[1., 1., 1.],\n",
      "        [1., 1., 1.],\n",
      "        [1., 1., 1.],\n",
      "        [1., 1., 1.],\n",
      "        [1., 1., 1.]])\n"
     ]
    }
   ],
   "source": [
    "x = torch.ones(5, 3)\n",
    "print(x)"
   ]
  },
  {
   "cell_type": "code",
   "execution_count": 160,
   "metadata": {},
   "outputs": [
    {
     "name": "stdout",
     "output_type": "stream",
     "text": [
      "torch.Size([5, 3]) torch.Size([5, 3]) torch.Size([3])\n"
     ]
    }
   ],
   "source": [
    "# check size\n",
    "print(x.size(), x.shape, x[0].shape)"
   ]
  },
  {
   "cell_type": "code",
   "execution_count": 161,
   "metadata": {},
   "outputs": [
    {
     "name": "stdout",
     "output_type": "stream",
     "text": [
      "torch.float32\n",
      "tensor([[1, 1],\n",
      "        [1, 1],\n",
      "        [1, 1]])\n"
     ]
    }
   ],
   "source": [
    "# datatype\n",
    "print(x.dtype)\n",
    "x = torch.ones(3,2,dtype=int)\n",
    "print(x)"
   ]
  },
  {
   "cell_type": "code",
   "execution_count": 162,
   "metadata": {},
   "outputs": [
    {
     "name": "stdout",
     "output_type": "stream",
     "text": [
      "tensor([2.0000, 3.5000, 4.0000], requires_grad=True)\n"
     ]
    }
   ],
   "source": [
    "# To calcualte gradient for this tensor\n",
    "x = torch.tensor([2, 3.5, 4], requires_grad = True)\n",
    "print(x)"
   ]
  },
  {
   "cell_type": "code",
   "execution_count": 163,
   "metadata": {},
   "outputs": [
    {
     "name": "stdout",
     "output_type": "stream",
     "text": [
      "tensor([[0.8710, 0.5985, 0.8928, 0.2475],\n",
      "        [0.1629, 0.9974, 0.1745, 0.8027],\n",
      "        [0.0611, 0.9410, 0.1655, 0.1645],\n",
      "        [0.1934, 0.1905, 0.6478, 0.8490],\n",
      "        [0.5332, 0.1547, 0.7727, 0.4118]])\n",
      "tensor([0.8710, 0.1629, 0.0611, 0.1934, 0.5332])\n"
     ]
    }
   ],
   "source": [
    "# slicing\n",
    "x = torch.rand(5,4)\n",
    "print(x)\n",
    "print(x[:, 0])"
   ]
  },
  {
   "cell_type": "code",
   "execution_count": 164,
   "metadata": {},
   "outputs": [
    {
     "name": "stdout",
     "output_type": "stream",
     "text": [
      "tensor([[ 0.3260, -2.4950, -0.3501,  0.5108],\n",
      "        [-0.3252,  1.6520, -0.6298, -0.7426],\n",
      "        [ 1.9315,  0.2365,  0.4863, -0.5565],\n",
      "        [-1.0657,  1.0835, -0.2443, -0.8860]]) \n",
      " tensor([[ 0.3260, -2.4950, -0.3501,  0.5108, -0.3252,  1.6520, -0.6298, -0.7426],\n",
      "        [ 1.9315,  0.2365,  0.4863, -0.5565, -1.0657,  1.0835, -0.2443, -0.8860]])\n"
     ]
    }
   ],
   "source": [
    "# reshape size\n",
    "x = torch.randn(4, 4)\n",
    "y = x.view(2, -1)\n",
    "print(x, \"\\n\", y)"
   ]
  },
  {
   "cell_type": "code",
   "execution_count": 165,
   "metadata": {},
   "outputs": [
    {
     "name": "stdout",
     "output_type": "stream",
     "text": [
      "<class 'numpy.ndarray'>\n",
      "tensor([[1., 1.],\n",
      "        [1., 1.],\n",
      "        [1., 1.]])\n"
     ]
    }
   ],
   "source": [
    "# TENSOR --> NUMPY ARRAY\n",
    "x = torch.ones(3,2)\n",
    "y = x.numpy()\n",
    "print(type(y))\n",
    "print(x)\n",
    "# *** If tensor is on GPU, then both tensor and np array will share \n",
    "#     same memory location, so changing one will change other too."
   ]
  },
  {
   "cell_type": "code",
   "execution_count": 166,
   "metadata": {},
   "outputs": [
    {
     "name": "stdout",
     "output_type": "stream",
     "text": [
      "tensor([[3., 3.],\n",
      "        [3., 3.],\n",
      "        [3., 3.]])\n",
      "[[3. 3.]\n",
      " [3. 3.]\n",
      " [3. 3.]]\n"
     ]
    }
   ],
   "source": [
    "x.add_(2)\n",
    "print(x)\n",
    "print(y)  # <=== Both changed !!"
   ]
  },
  {
   "cell_type": "code",
   "execution_count": 167,
   "metadata": {},
   "outputs": [
    {
     "name": "stdout",
     "output_type": "stream",
     "text": [
      "<class 'numpy.ndarray'> <class 'torch.Tensor'> <class 'torch.Tensor'>\n"
     ]
    }
   ],
   "source": [
    "#  NUMPY ARRAY --> TENSOR\n",
    "a = np.ones(3)\n",
    "b = torch.from_numpy(a)  # <-- Share same mem locations\n",
    "c = torch.tensor(a) # <-- different memory\n",
    "print(type(a), type(b), type(c))"
   ]
  },
  {
   "cell_type": "markdown",
   "metadata": {},
   "source": [
    "##  GPU Support\n",
    "##### By default Tensor proccesses on CPU, but we can allocate GPU to all tensors "
   ]
  },
  {
   "cell_type": "code",
   "execution_count": 168,
   "metadata": {},
   "outputs": [
    {
     "name": "stdout",
     "output_type": "stream",
     "text": [
      "cuda\n"
     ]
    }
   ],
   "source": [
    "device = torch.device('cuda' if torch.cuda.is_available() else 'cpu')\n",
    "print(device)\n",
    "x = torch.rand(2,3).to(device)  # tensor moved to GPU device\n",
    "\n",
    "x = torch.rand(2,3, device=device) # created on GPU device only"
   ]
  },
  {
   "cell_type": "markdown",
   "metadata": {},
   "source": [
    "## Autograd\n",
    "##### this package give automatic differentiation for all ops on tensor.\n",
    "##### It provides partial derivatives, while applying chain rule.\n",
    ">Set requires_grad = True"
   ]
  },
  {
   "cell_type": "code",
   "execution_count": 169,
   "metadata": {},
   "outputs": [
    {
     "name": "stdout",
     "output_type": "stream",
     "text": [
      "tensor([-0.3744, -2.0941, -0.0507,  0.5229,  0.4360], requires_grad=True)\n",
      "tensor([ 1.6256, -0.0941,  1.9493,  2.5229,  2.4360], grad_fn=<AddBackward0>)\n",
      "tensor([3.6425, 1.0089, 4.7998, 7.3652, 6.9341], grad_fn=<AddBackward0>)\n",
      "tensor(4.7501, grad_fn=<MeanBackward0>)\n",
      "None\n",
      "tensor([ 0.6502, -0.0376,  0.7797,  1.0092,  0.9744])\n"
     ]
    }
   ],
   "source": [
    "x = torch.randn(5, requires_grad=True)\n",
    "\n",
    "y = x + 2\n",
    "z = y * y + 1\n",
    "w = z.mean()\n",
    "\n",
    "# All ops are tracked \n",
    "print(x)\n",
    "print(y)\n",
    "print(z)\n",
    "print(w)\n",
    "\n",
    "print(x.grad) \n",
    "w.backward() # <- backward propagation\n",
    "print(x.grad) #dz/dx\n",
    "\n",
    "# TO remove all gradient calcualted we use optimizer.zero_grad()"
   ]
  },
  {
   "cell_type": "markdown",
   "metadata": {},
   "source": [
    "## Stop a tensor from tracking history:\n",
    "##### For example during the training loop when we want to update our weights, or after training during evaluation. These operations should not be part of the gradient computation. To prevent this, we can use:\n",
    "- x.requires_grad_(False)\n",
    "- x.detach()\n",
    "- wrap in with torch.no_grad():"
   ]
  },
  {
   "cell_type": "code",
   "execution_count": 170,
   "metadata": {},
   "outputs": [
    {
     "name": "stdout",
     "output_type": "stream",
     "text": [
      "None\n",
      "<AddBackward0 object at 0x7f9857ceb4f0>\n"
     ]
    }
   ],
   "source": [
    "# 1\n",
    "x = torch.randn(4,2)\n",
    "y=x*x+3\n",
    "print(y.grad_fn)\n",
    "\n",
    "x.requires_grad_(True)\n",
    "y=x*x+3\n",
    "print(y.grad_fn)"
   ]
  },
  {
   "cell_type": "code",
   "execution_count": 171,
   "metadata": {},
   "outputs": [
    {
     "name": "stdout",
     "output_type": "stream",
     "text": [
      "True\n",
      "False\n"
     ]
    }
   ],
   "source": [
    "# 2 : remove grad comp unit from tensor and create new tensor\n",
    "x = torch.randn(2,2, requires_grad=True)\n",
    "y = x.detach()\n",
    "print(x.requires_grad)\n",
    "print(y.requires_grad)"
   ]
  },
  {
   "cell_type": "code",
   "execution_count": 172,
   "metadata": {},
   "outputs": [
    {
     "name": "stdout",
     "output_type": "stream",
     "text": [
      "None\n"
     ]
    }
   ],
   "source": [
    "# 3\n",
    "x = torch.randn(2, 2, requires_grad=True)\n",
    "with torch.no_grad():\n",
    "    y = x*x + x\n",
    "    print(y.grad_fn)"
   ]
  },
  {
   "cell_type": "markdown",
   "metadata": {},
   "source": [
    "## Linear Regression\n",
    "> f(x) = w*x + b"
   ]
  },
  {
   "cell_type": "code",
   "execution_count": 173,
   "metadata": {},
   "outputs": [
    {
     "name": "stdout",
     "output_type": "stream",
     "text": [
      "Prediction before training: f(-10) = -0.000\n",
      "epoch: 10  w: 1.9984041452407837  loss: 0.0002704716462176293\n",
      "epoch: 20  w: 1.999998688697815  loss: 1.7278267705478356e-10\n",
      "epoch: 30  w: 2.0  loss: 0.0\n",
      "epoch: 40  w: 2.0  loss: 0.0\n",
      "epoch: 50  w: 2.0  loss: 0.0\n",
      "epoch: 60  w: 2.0  loss: 0.0\n",
      "epoch: 70  w: 2.0  loss: 0.0\n",
      "epoch: 80  w: 2.0  loss: 0.0\n",
      "epoch: 90  w: 2.0  loss: 0.0\n",
      "epoch: 100  w: 2.0  loss: 0.0\n",
      "Prediction after training: f(-10) = -20.000\n"
     ]
    }
   ],
   "source": [
    "# here, fx = 2*x\n",
    "X = torch.tensor([1,2,3,4,5,6,7,8], dtype=torch.float32)\n",
    "Y = torch.tensor([2,4,6,8,10,12,14,16], dtype=torch.float32)\n",
    "\n",
    "w = torch.tensor(0.0, dtype=torch.float32,requires_grad=True)\n",
    "\n",
    "# model\n",
    "def forward(x):\n",
    "    return w*x\n",
    "def loss(y,y_):\n",
    "    return ((y_-y)**2).mean()\n",
    "\n",
    "X_test = -10\n",
    "print(f'Prediction before training: f({X_test}) = {forward(X_test).item():.3f}')\n",
    "\n",
    "# Training\n",
    "mu = 0.01\n",
    "epochs = 100\n",
    "\n",
    "for epoch in range(epochs):\n",
    "    Y_ = forward(X)\n",
    "    L = loss(Y,Y_)\n",
    "    \n",
    "    L.backward()\n",
    "\n",
    "    with torch.no_grad():\n",
    "        w -= mu * w.grad\n",
    "        # !! dont do w = w - mu*w.grad\n",
    "        # It will create new w tensor, which will not be linked to any function history\n",
    "        # hence no grad for it.\n",
    "\n",
    "    w.grad.zero_()\n",
    "    \n",
    "    if(epoch+1) % 10 == 0:\n",
    "        print(\"epoch:\",epoch+1, \" w:\", w.item(), \" loss:\", L.item())\n",
    "\n",
    "# test\n",
    "print(f'Prediction after training: f({X_test}) = {forward(X_test).item():.3f}')"
   ]
  },
  {
   "cell_type": "markdown",
   "metadata": {},
   "source": [
    "## Model, Loss & Optimizer\n",
    "\n",
    "A typical PyTorch pipeline:\n",
    "- Design model (input, output, fwd pass with diff layers)\n",
    "- Construct loss and optimizers\n",
    "- Training loop:\n",
    "    - Forward: compute pred and loss\n",
    "    - Backward: coputer grads\n",
    "    - update weights"
   ]
  },
  {
   "cell_type": "code",
   "execution_count": 202,
   "metadata": {},
   "outputs": [],
   "source": [
    "import torch\n",
    "import torch.nn as nn\n",
    "import torchvision\n",
    "import torchvision.transforms as transforms\n",
    "import matplotlib.pyplot as plt"
   ]
  },
  {
   "cell_type": "code",
   "execution_count": 203,
   "metadata": {},
   "outputs": [
    {
     "data": {
      "text/plain": [
       "device(type='cuda')"
      ]
     },
     "execution_count": 203,
     "metadata": {},
     "output_type": "execute_result"
    }
   ],
   "source": [
    "device = torch.device('cuda' if torch.cuda.is_available() else 'cpu')\n",
    "device"
   ]
  },
  {
   "cell_type": "code",
   "execution_count": 217,
   "metadata": {},
   "outputs": [],
   "source": [
    "# Hyper-parameteres\n",
    "input_size = 784 #28*28\n",
    "hidden_size = 500\n",
    "num_classes = 10\n",
    "num_epochs = 24\n",
    "batch_size = 100\n",
    "learning_rate = 0.001"
   ]
  },
  {
   "cell_type": "code",
   "execution_count": 205,
   "metadata": {},
   "outputs": [],
   "source": [
    "# Data loader : it helps in iterating over datasets\n",
    "train_loader = torch.utils.data.DataLoader(dataset=df_train,batch_size=batch_size,shuffle=True)\n",
    "test_loader = torch.utils.data.DataLoader(dataset=df_test,batch_size=batch_size,shuffle=True)"
   ]
  },
  {
   "cell_type": "code",
   "execution_count": 210,
   "metadata": {},
   "outputs": [
    {
     "data": {
      "image/png": "[encoded data removed]",
      "text/plain": [
       "<Figure size 640x480 with 6 Axes>"
      ]
     },
     "metadata": {},
     "output_type": "display_data"
    }
   ],
   "source": [
    "# example iterator\n",
    "itr = iter(train_loader)\n",
    "example_X, example_Y = next(itr) # it return next batch of data from dataset\n",
    "\n",
    "for i in range(6):\n",
    "    plt.subplot(2,3,i+1)\n",
    "    plt.imshow(example_X[i][0], cmap='gray')\n",
    "plt.show()\n",
    "\n"
   ]
  },
  {
   "cell_type": "code",
   "execution_count": null,
   "metadata": {
    "scrolled": true
   },
   "outputs": [
    {
     "name": "stdout",
     "output_type": "stream",
     "text": [
      "Epoch [1/24], Step [100/600], Loss: 0.4002\n",
      "Epoch [1/24], Step [200/600], Loss: 0.1712\n",
      "Epoch [1/24], Step [300/600], Loss: 0.0999\n",
      "Epoch [1/24], Step [400/600], Loss: 0.2968\n",
      "Epoch [1/24], Step [500/600], Loss: 0.1256\n",
      "Epoch [1/24], Step [600/600], Loss: 0.1022\n",
      "Epoch [2/24], Step [100/600], Loss: 0.0840\n",
      "Epoch [2/24], Step [200/600], Loss: 0.1044\n",
      "Epoch [2/24], Step [300/600], Loss: 0.0950\n",
      "Epoch [2/24], Step [400/600], Loss: 0.2278\n",
      "Epoch [2/24], Step [500/600], Loss: 0.1666\n",
      "Epoch [2/24], Step [600/600], Loss: 0.1369\n",
      "Epoch [3/24], Step [100/600], Loss: 0.1383\n",
      "Epoch [3/24], Step [200/600], Loss: 0.0629\n",
      "Epoch [3/24], Step [300/600], Loss: 0.0231\n",
      "Epoch [3/24], Step [400/600], Loss: 0.0367\n",
      "Epoch [3/24], Step [500/600], Loss: 0.1058\n",
      "Epoch [3/24], Step [600/600], Loss: 0.0943\n",
      "Epoch [4/24], Step [100/600], Loss: 0.0160\n",
      "Epoch [4/24], Step [200/600], Loss: 0.0943\n",
      "Epoch [4/24], Step [300/600], Loss: 0.0116\n",
      "Epoch [4/24], Step [400/600], Loss: 0.0145\n",
      "Epoch [4/24], Step [500/600], Loss: 0.1012\n",
      "Epoch [4/24], Step [600/600], Loss: 0.0283\n",
      "Epoch [5/24], Step [100/600], Loss: 0.0401\n",
      "Epoch [5/24], Step [200/600], Loss: 0.0304\n",
      "Epoch [5/24], Step [300/600], Loss: 0.0641\n",
      "Epoch [5/24], Step [400/600], Loss: 0.0162\n",
      "Epoch [5/24], Step [500/600], Loss: 0.0822\n",
      "Epoch [5/24], Step [600/600], Loss: 0.0516\n",
      "Epoch [6/24], Step [100/600], Loss: 0.0133\n",
      "Epoch [6/24], Step [200/600], Loss: 0.0070\n",
      "Epoch [6/24], Step [300/600], Loss: 0.0188\n",
      "Epoch [6/24], Step [400/600], Loss: 0.0194\n",
      "Epoch [6/24], Step [500/600], Loss: 0.0369\n",
      "Epoch [6/24], Step [600/600], Loss: 0.0148\n",
      "Epoch [7/24], Step [100/600], Loss: 0.0181\n",
      "Epoch [7/24], Step [200/600], Loss: 0.0869\n",
      "Epoch [7/24], Step [300/600], Loss: 0.0287\n",
      "Epoch [7/24], Step [400/600], Loss: 0.0142\n",
      "Epoch [7/24], Step [500/600], Loss: 0.0125\n",
      "Epoch [7/24], Step [600/600], Loss: 0.0605\n",
      "Epoch [8/24], Step [100/600], Loss: 0.0042\n",
      "Epoch [8/24], Step [200/600], Loss: 0.0407\n",
      "Epoch [8/24], Step [300/600], Loss: 0.0054\n",
      "Epoch [8/24], Step [400/600], Loss: 0.0152\n",
      "Epoch [8/24], Step [500/600], Loss: 0.0213\n",
      "Epoch [8/24], Step [600/600], Loss: 0.0217\n",
      "Epoch [9/24], Step [100/600], Loss: 0.0120\n",
      "Epoch [9/24], Step [200/600], Loss: 0.0193\n",
      "Epoch [9/24], Step [300/600], Loss: 0.0364\n",
      "Epoch [9/24], Step [400/600], Loss: 0.0033\n",
      "Epoch [9/24], Step [500/600], Loss: 0.0276\n",
      "Epoch [9/24], Step [600/600], Loss: 0.0136\n",
      "Epoch [10/24], Step [100/600], Loss: 0.0225\n",
      "Epoch [10/24], Step [200/600], Loss: 0.0182\n",
      "Epoch [10/24], Step [300/600], Loss: 0.0261\n"
     ]
    }
   ],
   "source": [
    "# Fully Connected neural network\n",
    "\n",
    "class NeuralNet(nn.Module):\n",
    "    def __init__(self, input_size, hidden_size, num_classes):\n",
    "        super(NeuralNet, self).__init__()\n",
    "        self.l1 = nn.Linear(input_size, hidden_size)\n",
    "        self.relu = nn.ReLU()\n",
    "        self.l2 = nn.Linear(hidden_size, num_classes)\n",
    "\n",
    "    def forward(self, x):\n",
    "        out = self.l2(self.relu(self.l1(x)))\n",
    "        # no activation or softmax as Op func \n",
    "        return out\n",
    "\n",
    "model = NeuralNet(input_size, hidden_size, num_classes).to(device)\n",
    "\n",
    "# Loss and optimizer\n",
    "loss_f = nn.CrossEntropyLoss()\n",
    "optimizer = torch.optim.Adam(model.parameters(),lr=learning_rate)\n",
    "\n",
    "# Train model\n",
    "total_steps = len(train_loader)\n",
    "for epoch in range(num_epochs):\n",
    "    # each iteration will give a batch of images \n",
    "    for i, (images, labels) in enumerate(train_loader): \n",
    "        # original shape : [100, 1, 28, 28]\n",
    "        # now: [100, 784]\n",
    "        images = images.reshape(-1, 28*28).to(device)\n",
    "        labels = labels.to(device)\n",
    "\n",
    "        # forward prop\n",
    "        outputs = model.forward(images)\n",
    "        loss = loss_f(outputs, labels)\n",
    "\n",
    "        # backward prop and optimize\n",
    "        loss.backward()\n",
    "        optimizer.step()\n",
    "        optimizer.zero_grad()\n",
    "        \n",
    "        \n",
    "        if (i+1) % 100 == 0:\n",
    "            print (f'Epoch [{epoch+1}/{num_epochs}], Step [{i+1}/{total_steps}], Loss: {loss.item():.4f}')"
   ]
  },
  {
   "cell_type": "code",
   "execution_count": null,
   "metadata": {},
   "outputs": [],
   "source": [
    "# Testing the model\n",
    "\n",
    "with torch.no_grad():\n",
    "    good_pred = 0\n",
    "    total_samples = len(test_loader.dataset)\n",
    "    \n",
    "    for images,labels in (test_loader):\n",
    "        # 1oo images per batch\n",
    "        images = images.reshape(-1, 28*28).to(device)\n",
    "        labels = labels.to(device)\n",
    "\n",
    "        outputs = model.forward(images)\n",
    "        _, prediction = torch.max(outputs, 1) # max give (output value, index)\n",
    "\n",
    "        good_pred += (prediction==labels).sum().item()\n",
    "\n",
    "    accuracy = good_pred/(total_samples)\n",
    "    print(f'Accuracy of the network on the {total_samples} test images: {100 * accuracy} %')\n",
    "        "
   ]
  },
  {
   "cell_type": "code",
   "execution_count": null,
   "metadata": {},
   "outputs": [],
   "source": []
  }
 ],
 "metadata": {
  "kernelspec": {
   "display_name": "Python 3 (ipykernel)",
   "language": "python",
   "name": "python3"
  },
  "language_info": {
   "codemirror_mode": {
    "name": "ipython",
    "version": 3
   },
   "file_extension": ".py",
   "mimetype": "text/x-python",
   "name": "python",
   "nbconvert_exporter": "python",
   "pygments_lexer": "ipython3",
   "version": "3.12.3"
  }
 },
 "nbformat": 4,
 "nbformat_minor": 4
}
