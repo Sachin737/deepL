{
 "cells": [
  {
   "cell_type": "code",
   "execution_count": 13,
   "metadata": {},
   "outputs": [],
   "source": [
    "import torch\n",
    "import numpy as np"
   ]
  },
  {
   "cell_type": "code",
   "execution_count": 14,
   "metadata": {},
   "outputs": [
    {
     "name": "stdout",
     "output_type": "stream",
     "text": [
      "tensor([[5.6052e-45, 2.8026e-45, 8.7931e-42, 7.0065e-45, 1.1210e-44],\n",
      "        [8.7931e-42, 8.4078e-45, 4.2039e-45, 8.7931e-42, 9.8091e-45]])\n"
     ]
    }
   ],
   "source": [
    "x = torch.empty(2,5)\n",
    "print(x)"
   ]
  },
  {
   "cell_type": "code",
   "execution_count": 15,
   "metadata": {},
   "outputs": [
    {
     "name": "stdout",
     "output_type": "stream",
     "text": [
      "tensor([[0.2899, 0.5027, 0.7422],\n",
      "        [0.9212, 0.2032, 0.4380],\n",
      "        [0.0168, 0.1655, 0.4831],\n",
      "        [0.0172, 0.5309, 0.7628],\n",
      "        [0.6189, 0.7438, 0.9621]])\n"
     ]
    }
   ],
   "source": [
    "x = torch.rand(5, 3) # rand no. in [0,1]\n",
    "print(x)"
   ]
  },
  {
   "cell_type": "code",
   "execution_count": 16,
   "metadata": {},
   "outputs": [
    {
     "name": "stdout",
     "output_type": "stream",
     "text": [
      "tensor([[1., 1., 1.],\n",
      "        [1., 1., 1.],\n",
      "        [1., 1., 1.],\n",
      "        [1., 1., 1.],\n",
      "        [1., 1., 1.]])\n"
     ]
    }
   ],
   "source": [
    "x = torch.ones(5, 3)\n",
    "print(x)"
   ]
  },
  {
   "cell_type": "code",
   "execution_count": 17,
   "metadata": {},
   "outputs": [
    {
     "name": "stdout",
     "output_type": "stream",
     "text": [
      "torch.Size([5, 3]) torch.Size([5, 3]) torch.Size([3])\n"
     ]
    }
   ],
   "source": [
    "# check size\n",
    "print(x.size(), x.shape, x[0].shape)"
   ]
  },
  {
   "cell_type": "code",
   "execution_count": 18,
   "metadata": {},
   "outputs": [
    {
     "name": "stdout",
     "output_type": "stream",
     "text": [
      "torch.float32\n",
      "tensor([[1, 1],\n",
      "        [1, 1],\n",
      "        [1, 1]])\n"
     ]
    }
   ],
   "source": [
    "# datatype\n",
    "print(x.dtype)\n",
    "x = torch.ones(3,2,dtype=int)\n",
    "print(x)"
   ]
  },
  {
   "cell_type": "code",
   "execution_count": 19,
   "metadata": {},
   "outputs": [
    {
     "name": "stdout",
     "output_type": "stream",
     "text": [
      "tensor([2.0000, 3.5000, 4.0000], requires_grad=True)\n"
     ]
    }
   ],
   "source": [
    "# To calcualte gradient for this tensor\n",
    "x = torch.tensor([2, 3.5, 4], requires_grad = True)\n",
    "print(x)"
   ]
  },
  {
   "cell_type": "code",
   "execution_count": 20,
   "metadata": {},
   "outputs": [
    {
     "name": "stdout",
     "output_type": "stream",
     "text": [
      "tensor([[7.1725e-01, 5.1789e-01, 8.0126e-01, 5.7438e-01],\n",
      "        [3.1579e-01, 5.6966e-01, 4.5246e-01, 1.2233e-01],\n",
      "        [2.1474e-01, 3.4550e-01, 9.8497e-01, 5.9773e-01],\n",
      "        [8.6255e-01, 7.3570e-04, 6.1266e-01, 1.1736e-01],\n",
      "        [4.1088e-01, 7.2335e-02, 6.4748e-01, 5.2650e-01]])\n",
      "tensor([0.7173, 0.3158, 0.2147, 0.8625, 0.4109])\n"
     ]
    }
   ],
   "source": [
    "# slicing\n",
    "x = torch.rand(5,4)\n",
    "print(x)\n",
    "print(x[:, 0])"
   ]
  },
  {
   "cell_type": "code",
   "execution_count": 21,
   "metadata": {},
   "outputs": [
    {
     "name": "stdout",
     "output_type": "stream",
     "text": [
      "tensor([[ 1.2001,  0.0541,  0.6976,  0.0771],\n",
      "        [ 0.8368,  1.1789,  0.3856,  0.2079],\n",
      "        [-0.6641,  1.1934, -0.7358,  1.5691],\n",
      "        [-0.4029, -1.3785,  3.0569, -1.0775]]) \n",
      " tensor([[ 1.2001,  0.0541,  0.6976,  0.0771,  0.8368,  1.1789,  0.3856,  0.2079],\n",
      "        [-0.6641,  1.1934, -0.7358,  1.5691, -0.4029, -1.3785,  3.0569, -1.0775]])\n"
     ]
    }
   ],
   "source": [
    "# reshape size\n",
    "x = torch.randn(4, 4)\n",
    "y = x.view(2, -1)\n",
    "print(x, \"\\n\", y)"
   ]
  },
  {
   "cell_type": "code",
   "execution_count": 22,
   "metadata": {},
   "outputs": [
    {
     "name": "stdout",
     "output_type": "stream",
     "text": [
      "<class 'numpy.ndarray'>\n",
      "tensor([[1., 1.],\n",
      "        [1., 1.],\n",
      "        [1., 1.]])\n"
     ]
    }
   ],
   "source": [
    "# TENSOR --> NUMPY ARRAY\n",
    "x = torch.ones(3,2)\n",
    "y = x.numpy()\n",
    "print(type(y))\n",
    "print(x)\n",
    "# *** If tensor is on GPU, then both tensor and np array will share \n",
    "#     same memory location, so changing one will change other too."
   ]
  },
  {
   "cell_type": "code",
   "execution_count": 23,
   "metadata": {},
   "outputs": [
    {
     "name": "stdout",
     "output_type": "stream",
     "text": [
      "tensor([[3., 3.],\n",
      "        [3., 3.],\n",
      "        [3., 3.]])\n",
      "[[3. 3.]\n",
      " [3. 3.]\n",
      " [3. 3.]]\n"
     ]
    }
   ],
   "source": [
    "x.add_(2)\n",
    "print(x)\n",
    "print(y)  # <=== Both changed !!"
   ]
  },
  {
   "cell_type": "code",
   "execution_count": 24,
   "metadata": {},
   "outputs": [
    {
     "name": "stdout",
     "output_type": "stream",
     "text": [
      "<class 'numpy.ndarray'> <class 'torch.Tensor'> <class 'torch.Tensor'>\n"
     ]
    }
   ],
   "source": [
    "#  NUMPY ARRAY --> TENSOR\n",
    "a = np.ones(3)\n",
    "b = torch.from_numpy(a)  # <-- Share same mem locations\n",
    "c = torch.tensor(a) # <-- different memory\n",
    "print(type(a), type(b), type(c))"
   ]
  },
  {
   "cell_type": "markdown",
   "metadata": {},
   "source": [
    "##  GPU Support\n",
    "##### By default Tensor proccesses on CPU, but we can allocate GPU to all tensors "
   ]
  },
  {
   "cell_type": "code",
   "execution_count": 25,
   "metadata": {},
   "outputs": [
    {
     "name": "stdout",
     "output_type": "stream",
     "text": [
      "cuda\n"
     ]
    }
   ],
   "source": [
    "device = torch.device('cuda' if torch.cuda.is_available() else 'cpu')\n",
    "print(device)\n",
    "x = torch.rand(2,3).to(device)  # tensor moved to GPU device\n",
    "\n",
    "x = torch.rand(2,3, device=device) # created on GPU device only"
   ]
  },
  {
   "cell_type": "markdown",
   "metadata": {},
   "source": [
    "## Autograd\n",
    "##### this package give automatic differentiation for all ops on tensor.\n",
    "##### It provides partial derivatives, while applying chain rule.\n",
    ">Set requires_grad = True"
   ]
  },
  {
   "cell_type": "code",
   "execution_count": 26,
   "metadata": {},
   "outputs": [
    {
     "name": "stdout",
     "output_type": "stream",
     "text": [
      "tensor([ 1.0768,  0.2739, -0.0209, -0.3778, -1.0820], requires_grad=True)\n",
      "tensor([3.0768, 2.2739, 1.9791, 1.6222, 0.9180], grad_fn=<AddBackward0>)\n",
      "tensor([10.4666,  6.1707,  4.9169,  3.6314,  1.8428], grad_fn=<AddBackward0>)\n",
      "tensor(5.4057, grad_fn=<MeanBackward0>)\n",
      "None\n",
      "tensor([1.2307, 0.9096, 0.7916, 0.6489, 0.3672])\n"
     ]
    }
   ],
   "source": [
    "x = torch.randn(5, requires_grad=True)\n",
    "\n",
    "y = x + 2\n",
    "z = y * y + 1\n",
    "w = z.mean()\n",
    "\n",
    "# All ops are tracked \n",
    "print(x)\n",
    "print(y)\n",
    "print(z)\n",
    "print(w)\n",
    "\n",
    "print(x.grad) \n",
    "w.backward() # <- backward propagation\n",
    "print(x.grad) #dz/dx\n",
    "\n",
    "# TO remove all gradient calcualted we use optimizer.zero_grad()"
   ]
  },
  {
   "cell_type": "markdown",
   "metadata": {},
   "source": [
    "## Stop a tensor from tracking history:\n",
    "##### For example during the training loop when we want to update our weights, or after training during evaluation. These operations should not be part of the gradient computation. To prevent this, we can use:\n",
    "- x.requires_grad_(False)\n",
    "- x.detach()\n",
    "- wrap in with torch.no_grad():"
   ]
  },
  {
   "cell_type": "code",
   "execution_count": 27,
   "metadata": {},
   "outputs": [
    {
     "name": "stdout",
     "output_type": "stream",
     "text": [
      "None\n",
      "<AddBackward0 object at 0x7f1374d18e20>\n"
     ]
    }
   ],
   "source": [
    "# 1\n",
    "x = torch.randn(4,2)\n",
    "y=x*x+3\n",
    "print(y.grad_fn)\n",
    "\n",
    "x.requires_grad_(True)\n",
    "y=x*x+3\n",
    "print(y.grad_fn)"
   ]
  },
  {
   "cell_type": "code",
   "execution_count": 28,
   "metadata": {},
   "outputs": [
    {
     "name": "stdout",
     "output_type": "stream",
     "text": [
      "True\n",
      "False\n"
     ]
    }
   ],
   "source": [
    "# 2 : remove grad comp unit from tensor and create new tensor\n",
    "x = torch.randn(2,2, requires_grad=True)\n",
    "y = x.detach()\n",
    "print(x.requires_grad)\n",
    "print(y.requires_grad)"
   ]
  },
  {
   "cell_type": "code",
   "execution_count": 29,
   "metadata": {},
   "outputs": [
    {
     "name": "stdout",
     "output_type": "stream",
     "text": [
      "None\n"
     ]
    }
   ],
   "source": [
    "# 3\n",
    "x = torch.randn(2, 2, requires_grad=True)\n",
    "with torch.no_grad():\n",
    "    y = x*x + x\n",
    "    print(y.grad_fn)"
   ]
  },
  {
   "cell_type": "markdown",
   "metadata": {},
   "source": [
    "## Linear Regression\n",
    "> f(x) = w*x + b"
   ]
  },
  {
   "cell_type": "code",
   "execution_count": 30,
   "metadata": {},
   "outputs": [
    {
     "name": "stdout",
     "output_type": "stream",
     "text": [
      "Prediction before training: f(-10) = -0.000\n",
      "epoch: 10  w: 1.9984041452407837  loss: 0.0002704716462176293\n",
      "epoch: 20  w: 1.999998688697815  loss: 1.7278267705478356e-10\n",
      "epoch: 30  w: 2.0  loss: 0.0\n",
      "epoch: 40  w: 2.0  loss: 0.0\n",
      "epoch: 50  w: 2.0  loss: 0.0\n",
      "epoch: 60  w: 2.0  loss: 0.0\n",
      "epoch: 70  w: 2.0  loss: 0.0\n",
      "epoch: 80  w: 2.0  loss: 0.0\n",
      "epoch: 90  w: 2.0  loss: 0.0\n",
      "epoch: 100  w: 2.0  loss: 0.0\n",
      "Prediction after training: f(-10) = -20.000\n"
     ]
    }
   ],
   "source": [
    "# here, fx = 2*x\n",
    "X = torch.tensor([1,2,3,4,5,6,7,8], dtype=torch.float32)\n",
    "Y = torch.tensor([2,4,6,8,10,12,14,16], dtype=torch.float32)\n",
    "\n",
    "w = torch.tensor(0.0, dtype=torch.float32,requires_grad=True)\n",
    "\n",
    "# model\n",
    "def forward(x):\n",
    "    return w*x\n",
    "def loss(y,y_):\n",
    "    return ((y_-y)**2).mean()\n",
    "\n",
    "X_test = -10\n",
    "print(f'Prediction before training: f({X_test}) = {forward(X_test).item():.3f}')\n",
    "\n",
    "# Training\n",
    "mu = 0.01\n",
    "epochs = 100\n",
    "\n",
    "for epoch in range(epochs):\n",
    "    Y_ = forward(X)\n",
    "    L = loss(Y,Y_)\n",
    "    \n",
    "    L.backward()\n",
    "\n",
    "    with torch.no_grad():\n",
    "        w -= mu * w.grad\n",
    "        # !! dont do w = w - mu*w.grad\n",
    "        # It will create new w tensor, which will not be linked to any function history\n",
    "        # hence no grad for it.\n",
    "\n",
    "    w.grad.zero_()\n",
    "    \n",
    "    if(epoch+1) % 10 == 0:\n",
    "        print(\"epoch:\",epoch+1, \" w:\", w.item(), \" loss:\", L.item())\n",
    "\n",
    "# test\n",
    "print(f'Prediction after training: f({X_test}) = {forward(X_test).item():.3f}')"
   ]
  },
  {
   "cell_type": "markdown",
   "metadata": {},
   "source": [
    "## Model, Loss & Optimizer\n",
    "\n",
    "A typical PyTorch pipeline:\n",
    "- Design model (input, output, fwd pass with diff layers)\n",
    "- Construct loss and optimizers\n",
    "- Training loop:\n",
    "    - Forward: compute pred and loss\n",
    "    - Backward: coputer grads\n",
    "    - update weights"
   ]
  },
  {
   "cell_type": "code",
   "execution_count": 31,
   "metadata": {},
   "outputs": [],
   "source": [
    "import torch\n",
    "import torch.nn as nn\n",
    "import torchvision\n",
    "import torchvision.transforms as transforms\n",
    "import matplotlib.pyplot as plt"
   ]
  },
  {
   "cell_type": "code",
   "execution_count": 32,
   "metadata": {},
   "outputs": [
    {
     "data": {
      "text/plain": [
       "device(type='cuda')"
      ]
     },
     "execution_count": 32,
     "metadata": {},
     "output_type": "execute_result"
    }
   ],
   "source": [
    "device = torch.device('cuda' if torch.cuda.is_available() else 'cpu')\n",
    "device"
   ]
  },
  {
   "cell_type": "code",
   "execution_count": 33,
   "metadata": {},
   "outputs": [],
   "source": [
    "# Hyper-parameteres\n",
    "input_size = 784 #28*28\n",
    "hidden_size = 500\n",
    "num_classes = 10\n",
    "num_epochs = 24\n",
    "batch_size = 100\n",
    "learning_rate = 0.001"
   ]
  },
  {
   "cell_type": "code",
   "execution_count": 34,
   "metadata": {},
   "outputs": [],
   "source": [
    "# MNIST dataset \n",
    "df_train = torchvision.datasets.MNIST(root='./data', train=True, transform=transforms.ToTensor(),download=True)\n",
    "\n",
    "df_test = torchvision.datasets.MNIST(root='./data',train=False, transform=transforms.ToTensor(), download=True)\n",
    "                                          "
   ]
  },
  {
   "cell_type": "code",
   "execution_count": 39,
   "metadata": {},
   "outputs": [],
   "source": [
    "# Data loader : it helps in iterating over datasets\n",
    "train_loader = torch.utils.data.DataLoader(dataset=df_train,batch_size=batch_size,shuffle=True)\n",
    "test_loader = torch.utils.data.DataLoader(dataset=df_test,batch_size=batch_size,shuffle=True)"
   ]
  },
  {
   "cell_type": "code",
   "execution_count": 40,
   "metadata": {},
   "outputs": [
    {
     "data": {
      "image/png": "[encoded data removed]",
      "text/plain": [
       "<Figure size 640x480 with 6 Axes>"
      ]
     },
     "metadata": {},
     "output_type": "display_data"
    }
   ],
   "source": [
    "# example iterator\n",
    "itr = iter(train_loader)\n",
    "example_X, example_Y = next(itr) # it return next batch of data from dataset\n",
    "\n",
    "for i in range(6):\n",
    "    plt.subplot(2,3,i+1)\n",
    "    plt.imshow(example_X[i][0], cmap='gray')\n",
    "plt.show()\n",
    "\n"
   ]
  },
  {
   "cell_type": "code",
   "execution_count": 37,
   "metadata": {
    "scrolled": true
   },
   "outputs": [
    {
     "name": "stdout",
     "output_type": "stream",
     "text": [
      "Epoch [1/24], Step [100/600], Loss: 0.3421\n",
      "Epoch [1/24], Step [200/600], Loss: 0.3937\n",
      "Epoch [1/24], Step [300/600], Loss: 0.3156\n",
      "Epoch [1/24], Step [400/600], Loss: 0.1090\n",
      "Epoch [1/24], Step [500/600], Loss: 0.1196\n",
      "Epoch [1/24], Step [600/600], Loss: 0.1786\n",
      "Epoch [2/24], Step [100/600], Loss: 0.2041\n",
      "Epoch [2/24], Step [200/600], Loss: 0.0444\n",
      "Epoch [2/24], Step [300/600], Loss: 0.0691\n",
      "Epoch [2/24], Step [400/600], Loss: 0.0642\n",
      "Epoch [2/24], Step [500/600], Loss: 0.0740\n",
      "Epoch [2/24], Step [600/600], Loss: 0.0576\n",
      "Epoch [3/24], Step [100/600], Loss: 0.0816\n",
      "Epoch [3/24], Step [200/600], Loss: 0.1146\n",
      "Epoch [3/24], Step [300/600], Loss: 0.0923\n",
      "Epoch [3/24], Step [400/600], Loss: 0.0561\n",
      "Epoch [3/24], Step [500/600], Loss: 0.0602\n",
      "Epoch [3/24], Step [600/600], Loss: 0.0450\n",
      "Epoch [4/24], Step [100/600], Loss: 0.0445\n",
      "Epoch [4/24], Step [200/600], Loss: 0.0270\n",
      "Epoch [4/24], Step [300/600], Loss: 0.0776\n",
      "Epoch [4/24], Step [400/600], Loss: 0.0493\n",
      "Epoch [4/24], Step [500/600], Loss: 0.0631\n",
      "Epoch [4/24], Step [600/600], Loss: 0.0192\n",
      "Epoch [5/24], Step [100/600], Loss: 0.0153\n",
      "Epoch [5/24], Step [200/600], Loss: 0.0314\n",
      "Epoch [5/24], Step [300/600], Loss: 0.0386\n",
      "Epoch [5/24], Step [400/600], Loss: 0.0776\n",
      "Epoch [5/24], Step [500/600], Loss: 0.0247\n",
      "Epoch [5/24], Step [600/600], Loss: 0.0436\n",
      "Epoch [6/24], Step [100/600], Loss: 0.0246\n",
      "Epoch [6/24], Step [200/600], Loss: 0.0202\n",
      "Epoch [6/24], Step [300/600], Loss: 0.0350\n",
      "Epoch [6/24], Step [400/600], Loss: 0.0158\n",
      "Epoch [6/24], Step [500/600], Loss: 0.0659\n",
      "Epoch [6/24], Step [600/600], Loss: 0.0894\n",
      "Epoch [7/24], Step [100/600], Loss: 0.0678\n",
      "Epoch [7/24], Step [200/600], Loss: 0.0187\n",
      "Epoch [7/24], Step [300/600], Loss: 0.0045\n",
      "Epoch [7/24], Step [400/600], Loss: 0.0273\n",
      "Epoch [7/24], Step [500/600], Loss: 0.0144\n",
      "Epoch [7/24], Step [600/600], Loss: 0.0058\n",
      "Epoch [8/24], Step [100/600], Loss: 0.0236\n",
      "Epoch [8/24], Step [200/600], Loss: 0.0024\n",
      "Epoch [8/24], Step [300/600], Loss: 0.0063\n",
      "Epoch [8/24], Step [400/600], Loss: 0.0071\n",
      "Epoch [8/24], Step [500/600], Loss: 0.0253\n",
      "Epoch [8/24], Step [600/600], Loss: 0.0058\n",
      "Epoch [9/24], Step [100/600], Loss: 0.0126\n",
      "Epoch [9/24], Step [200/600], Loss: 0.0092\n",
      "Epoch [9/24], Step [300/600], Loss: 0.0264\n",
      "Epoch [9/24], Step [400/600], Loss: 0.0082\n",
      "Epoch [9/24], Step [500/600], Loss: 0.0007\n",
      "Epoch [9/24], Step [600/600], Loss: 0.0278\n",
      "Epoch [10/24], Step [100/600], Loss: 0.0037\n",
      "Epoch [10/24], Step [200/600], Loss: 0.0043\n",
      "Epoch [10/24], Step [300/600], Loss: 0.0085\n",
      "Epoch [10/24], Step [400/600], Loss: 0.0231\n",
      "Epoch [10/24], Step [500/600], Loss: 0.0148\n",
      "Epoch [10/24], Step [600/600], Loss: 0.0159\n",
      "Epoch [11/24], Step [100/600], Loss: 0.0171\n",
      "Epoch [11/24], Step [200/600], Loss: 0.0042\n",
      "Epoch [11/24], Step [300/600], Loss: 0.0023\n",
      "Epoch [11/24], Step [400/600], Loss: 0.0028\n",
      "Epoch [11/24], Step [500/600], Loss: 0.0200\n",
      "Epoch [11/24], Step [600/600], Loss: 0.0351\n",
      "Epoch [12/24], Step [100/600], Loss: 0.0076\n",
      "Epoch [12/24], Step [200/600], Loss: 0.0070\n",
      "Epoch [12/24], Step [300/600], Loss: 0.0074\n",
      "Epoch [12/24], Step [400/600], Loss: 0.0054\n",
      "Epoch [12/24], Step [500/600], Loss: 0.0013\n",
      "Epoch [12/24], Step [600/600], Loss: 0.0170\n",
      "Epoch [13/24], Step [100/600], Loss: 0.0092\n",
      "Epoch [13/24], Step [200/600], Loss: 0.0039\n",
      "Epoch [13/24], Step [300/600], Loss: 0.0056\n",
      "Epoch [13/24], Step [400/600], Loss: 0.0029\n",
      "Epoch [13/24], Step [500/600], Loss: 0.0124\n",
      "Epoch [13/24], Step [600/600], Loss: 0.0036\n",
      "Epoch [14/24], Step [100/600], Loss: 0.0039\n",
      "Epoch [14/24], Step [200/600], Loss: 0.0019\n",
      "Epoch [14/24], Step [300/600], Loss: 0.0128\n",
      "Epoch [14/24], Step [400/600], Loss: 0.0066\n",
      "Epoch [14/24], Step [500/600], Loss: 0.0056\n",
      "Epoch [14/24], Step [600/600], Loss: 0.0021\n",
      "Epoch [15/24], Step [100/600], Loss: 0.0002\n",
      "Epoch [15/24], Step [200/600], Loss: 0.0022\n",
      "Epoch [15/24], Step [300/600], Loss: 0.0451\n",
      "Epoch [15/24], Step [400/600], Loss: 0.0044\n",
      "Epoch [15/24], Step [500/600], Loss: 0.0071\n",
      "Epoch [15/24], Step [600/600], Loss: 0.0017\n",
      "Epoch [16/24], Step [100/600], Loss: 0.0019\n",
      "Epoch [16/24], Step [200/600], Loss: 0.0005\n",
      "Epoch [16/24], Step [300/600], Loss: 0.0025\n",
      "Epoch [16/24], Step [400/600], Loss: 0.0012\n",
      "Epoch [16/24], Step [500/600], Loss: 0.0014\n",
      "Epoch [16/24], Step [600/600], Loss: 0.0003\n",
      "Epoch [17/24], Step [100/600], Loss: 0.0023\n",
      "Epoch [17/24], Step [200/600], Loss: 0.0028\n",
      "Epoch [17/24], Step [300/600], Loss: 0.0029\n",
      "Epoch [17/24], Step [400/600], Loss: 0.0011\n",
      "Epoch [17/24], Step [500/600], Loss: 0.0018\n",
      "Epoch [17/24], Step [600/600], Loss: 0.0011\n",
      "Epoch [18/24], Step [100/600], Loss: 0.0005\n",
      "Epoch [18/24], Step [200/600], Loss: 0.0082\n",
      "Epoch [18/24], Step [300/600], Loss: 0.0041\n",
      "Epoch [18/24], Step [400/600], Loss: 0.0105\n",
      "Epoch [18/24], Step [500/600], Loss: 0.0003\n",
      "Epoch [18/24], Step [600/600], Loss: 0.0073\n",
      "Epoch [19/24], Step [100/600], Loss: 0.0017\n",
      "Epoch [19/24], Step [200/600], Loss: 0.0001\n",
      "Epoch [19/24], Step [300/600], Loss: 0.0007\n",
      "Epoch [19/24], Step [400/600], Loss: 0.0092\n",
      "Epoch [19/24], Step [500/600], Loss: 0.0099\n",
      "Epoch [19/24], Step [600/600], Loss: 0.0029\n",
      "Epoch [20/24], Step [100/600], Loss: 0.0027\n",
      "Epoch [20/24], Step [200/600], Loss: 0.0035\n",
      "Epoch [20/24], Step [300/600], Loss: 0.0001\n",
      "Epoch [20/24], Step [400/600], Loss: 0.0004\n",
      "Epoch [20/24], Step [500/600], Loss: 0.0002\n",
      "Epoch [20/24], Step [600/600], Loss: 0.0002\n",
      "Epoch [21/24], Step [100/600], Loss: 0.0008\n",
      "Epoch [21/24], Step [200/600], Loss: 0.0001\n",
      "Epoch [21/24], Step [300/600], Loss: 0.0006\n",
      "Epoch [21/24], Step [400/600], Loss: 0.0013\n",
      "Epoch [21/24], Step [500/600], Loss: 0.0000\n",
      "Epoch [21/24], Step [600/600], Loss: 0.0002\n",
      "Epoch [22/24], Step [100/600], Loss: 0.0003\n",
      "Epoch [22/24], Step [200/600], Loss: 0.0001\n",
      "Epoch [22/24], Step [300/600], Loss: 0.0000\n",
      "Epoch [22/24], Step [400/600], Loss: 0.0001\n",
      "Epoch [22/24], Step [500/600], Loss: 0.0000\n",
      "Epoch [22/24], Step [600/600], Loss: 0.0000\n",
      "Epoch [23/24], Step [100/600], Loss: 0.0002\n",
      "Epoch [23/24], Step [200/600], Loss: 0.0001\n",
      "Epoch [23/24], Step [300/600], Loss: 0.0001\n",
      "Epoch [23/24], Step [400/600], Loss: 0.0000\n",
      "Epoch [23/24], Step [500/600], Loss: 0.0001\n",
      "Epoch [23/24], Step [600/600], Loss: 0.0000\n",
      "Epoch [24/24], Step [100/600], Loss: 0.0001\n",
      "Epoch [24/24], Step [200/600], Loss: 0.0001\n",
      "Epoch [24/24], Step [300/600], Loss: 0.0000\n",
      "Epoch [24/24], Step [400/600], Loss: 0.0000\n",
      "Epoch [24/24], Step [500/600], Loss: 0.0001\n",
      "Epoch [24/24], Step [600/600], Loss: 0.0001\n"
     ]
    }
   ],
   "source": [
    "# Fully Connected neural network\n",
    "\n",
    "class NeuralNet(nn.Module):\n",
    "    def __init__(self, input_size, hidden_size, num_classes):\n",
    "        super(NeuralNet, self).__init__()\n",
    "        self.l1 = nn.Linear(input_size, hidden_size)\n",
    "        self.relu = nn.ReLU()\n",
    "        self.l2 = nn.Linear(hidden_size, num_classes)\n",
    "\n",
    "    def forward(self, x):\n",
    "        out = self.l2(self.relu(self.l1(x)))\n",
    "        # no activation or softmax as Op func \n",
    "        return out\n",
    "\n",
    "model = NeuralNet(input_size, hidden_size, num_classes).to(device)\n",
    "\n",
    "# Loss and optimizer\n",
    "loss_f = nn.CrossEntropyLoss()\n",
    "optimizer = torch.optim.Adam(model.parameters(),lr=learning_rate)\n",
    "\n",
    "# Train model\n",
    "total_steps = len(train_loader)\n",
    "for epoch in range(num_epochs):\n",
    "    # each iteration will give a batch of images \n",
    "    for i, (images, labels) in enumerate(train_loader): \n",
    "        # original shape : [100, 1, 28, 28]\n",
    "        # now: [100, 784]\n",
    "        images = images.reshape(-1, 28*28).to(device)\n",
    "        labels = labels.to(device)\n",
    "\n",
    "        # forward prop\n",
    "        outputs = model.forward(images)\n",
    "        loss = loss_f(outputs, labels)\n",
    "\n",
    "        # backward prop and optimize\n",
    "        loss.backward()\n",
    "        optimizer.step()\n",
    "        optimizer.zero_grad()\n",
    "        \n",
    "        \n",
    "        if (i+1) % 100 == 0:\n",
    "            print (f'Epoch [{epoch+1}/{num_epochs}], Step [{i+1}/{total_steps}], Loss: {loss.item():.4f}')"
   ]
  },
  {
   "cell_type": "code",
   "execution_count": 38,
   "metadata": {},
   "outputs": [
    {
     "name": "stdout",
     "output_type": "stream",
     "text": [
      "Accuracy of the network on the 10000 test images: 98.37 %\n"
     ]
    }
   ],
   "source": [
    "# Testing the model\n",
    "\n",
    "with torch.no_grad():\n",
    "    good_pred = 0\n",
    "    total_samples = len(test_loader.dataset)\n",
    "    \n",
    "    for images,labels in (test_loader):\n",
    "        # 1oo images per batch\n",
    "        images = images.reshape(-1, 28*28).to(device)\n",
    "        labels = labels.to(device)\n",
    "\n",
    "        outputs = model.forward(images)\n",
    "        _, prediction = torch.max(outputs, 1) # max give (output value, index)\n",
    "\n",
    "        good_pred += (prediction==labels).sum().item()\n",
    "\n",
    "    accuracy = good_pred/(total_samples)\n",
    "    print(f'Accuracy of the network on the {total_samples} test images: {100 * accuracy} %')\n",
    "        "
   ]
  },
  {
   "cell_type": "code",
   "execution_count": 83,
   "metadata": {},
   "outputs": [
    {
     "name": "stdout",
     "output_type": "stream",
     "text": [
      "4\n"
     ]
    },
    {
     "data": {
      "image/png": "[encoded data removed]",
      "text/plain": [
       "<Figure size 640x480 with 1 Axes>"
      ]
     },
     "metadata": {},
     "output_type": "display_data"
    }
   ],
   "source": [
    "# test random\n",
    "itr = iter(test_loader)\n",
    "\n",
    "example_X, example_Y = next(itr) # it return next batch of data from dataset\n",
    "# print(example_X.size())\n",
    "\n",
    "plt.imshow(example_X[10][0], cmap='gray')\n",
    "\n",
    "y = model.forward(example_X[10][0].reshape(-1,28*28).to(device)).to(device)\n",
    "pred = torch.argmax(y)\n",
    "\n",
    "print(pred.item())"
   ]
  },
  {
   "cell_type": "code",
   "execution_count": null,
   "metadata": {},
   "outputs": [],
   "source": []
  },
  {
   "cell_type": "code",
   "execution_count": null,
   "metadata": {},
   "outputs": [],
   "source": []
  },
  {
   "cell_type": "code",
   "execution_count": null,
   "metadata": {},
   "outputs": [],
   "source": []
  }
 ],
 "metadata": {
  "kernelspec": {
   "display_name": "Python 3.11 (tensorflow)",
   "language": "python",
   "name": "tensorflow"
  },
  "language_info": {
   "codemirror_mode": {
    "name": "ipython",
    "version": 3
   },
   "file_extension": ".py",
   "mimetype": "text/x-python",
   "name": "python",
   "nbconvert_exporter": "python",
   "pygments_lexer": "ipython3",
   "version": "3.8.16"
  }
 },
 "nbformat": 4,
 "nbformat_minor": 4
}
